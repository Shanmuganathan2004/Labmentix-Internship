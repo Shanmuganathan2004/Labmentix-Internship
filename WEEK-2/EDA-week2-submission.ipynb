{
  "cells": [
    {
      "cell_type": "markdown",
      "metadata": {
        "id": "vncDsAP0Gaoa"
      },
      "source": [
        "# **Project Name**    - Amazon Prime: Movie and TV Show Analysis - Trends, Ratings, and Popularity\n",
        "\n"
      ]
    },
    {
      "cell_type": "markdown",
      "metadata": {
        "id": "beRrZCGUAJYm"
      },
      "source": [
        "##### **Project Type**    - EDA\n",
        "##### **Contribution**    - Individual\n",
        "##### **Name** - Shanmuganathan\n"
      ]
    },
    {
      "cell_type": "markdown",
      "metadata": {
        "id": "FJNUwmbgGyua"
      },
      "source": [
        "# **Project Summary**"
      ]
    },
    {
      "cell_type": "markdown",
      "metadata": {
        "id": "F6v_1wHtG2nS"
      },
      "source": [
        "The entertainment industry has seen a massive shift with the rise of streaming platforms like Amazon Prime, Netflix, and Disney+. With thousands of movies and TV shows available, understanding trends in content popularity, ratings, and production details can help platforms optimize recommendations, enhance user experience, and improve content acquisition strategies. This project aims to analyze Amazon Prime’s movie and TV show database to uncover insights related to content trends, IMDb scores, runtime distribution, genre popularity, and other key attributes.\n",
        "\n",
        "**Objective:**\n",
        "\n",
        "The primary goal of this project is to perform Exploratory Data Analysis (EDA) to identify:\n",
        "\n",
        "* The distribution of movies and TV shows over the years.\n",
        "* Popular genres and their performance based on IMDb scores and audience engagement.\n",
        "* Trends in runtime, production countries, and certification ratings.\n",
        "* The relationship between IMDb scores, votes, and TMDb scores.\n",
        "* Patterns in actors and directors associated with high-rated content. Dataset Overview:\n",
        "\n",
        "**The project is based on two datasets:**\n",
        "\n",
        "titles.csv – Contains metadata for movies and TV shows, including title, type (movie/show), description, release year, runtime, genres, IMDb score, TMDb score, production countries, and popularity metrics.\n",
        "credits.csv – Contains information on actors, directors, and their roles in various movies and TV shows.\n",
        "Exploratory Analysis:\n",
        "\n",
        "**To achieve the objectives, we will conduct:**\n",
        "\n",
        "* Data Cleaning: Handling missing values, correcting inconsistencies, and ensuring accurate formatting.\n",
        "* Descriptive Analysis: Examining distributions of movie releases, runtime trends, and IMDb score variations.\n",
        "* Genre Performance Analysis: Identifying which genres perform best and their audience reception.\n",
        "* Production Country Trends: Analyzing which countries contribute the most to content production.\n",
        "* Actor & Director Analysis: Determining which individuals are most frequently associated with top-rated content.\n",
        "\n",
        "**Expected Insights:**\n",
        "\n",
        "The trend of increasing/decreasing production of movies and shows over time.\n",
        "IMDb scores and popularity correlation with runtime and genre.\n",
        "Identification of the most popular genres and their performance. Key actors and directors influencing high IMDb ratings.\n",
        "\n",
        "**Conclusion:**\n",
        "\n",
        "By analyzing this dataset, we aim to provide actionable insights for content creators, streaming platforms, and audiences. This analysis can help Amazon Prime optimize its content strategy, understand audience preferences, and enhance recommendations based on past data."
      ]
    },
    {
      "cell_type": "markdown",
      "metadata": {
        "id": "w6K7xa23Elo4"
      },
      "source": [
        "# **GitHub Link**"
      ]
    },
    {
      "cell_type": "markdown",
      "metadata": {
        "id": "h1o69JH3Eqqn"
      },
      "source": [
        "[WEEK-2 Submission](https://github.com/Shanmuganathan2004/Labmentix-Internship/tree/main/WEEK-2)"
      ]
    },
    {
      "cell_type": "markdown",
      "metadata": {
        "id": "yQaldy8SH6Dl"
      },
      "source": [
        "# **Problem Statement**\n"
      ]
    },
    {
      "cell_type": "markdown",
      "metadata": {
        "id": "DpeJGUA3kjGy"
      },
      "source": [
        "With the rapid growth of streaming platforms like Amazon Prime, understanding content trends, viewer preferences, and performance metrics is crucial for data-driven decision-making. The vast library of movies and TV shows available poses challenges in identifying which factors contribute to a film or show's popularity, ratings, and audience engagement.\n",
        "\n",
        "This project aims to analyze Amazon Prime’s movie and TV show database to uncover key insights related to content performance. Specifically, we seek to answer:\n",
        "\n",
        "* How have movie and TV show productions evolved over the years?\n",
        "* What are the most popular genres, and how do they correlate with IMDb scores and audience engagement?\n",
        "* How do runtime, production countries, and age certification impact content success?\n",
        "* Which actors and directors are most frequently associated with highly rated content?\n",
        "* Is there a correlation between IMDb scores, votes, and TMDb scores? By addressing these questions, this analysis will provide valuable insights for streaming platforms to enhance content curation, improve recommendations, and optimize content acquisition strategies."
      ]
    },
    {
      "cell_type": "markdown",
      "metadata": {
        "id": "PH-0ReGfmX4f"
      },
      "source": [
        "#### **Define Your Business Objective?**"
      ]
    },
    {
      "cell_type": "markdown",
      "metadata": {
        "id": "PhDvGCAqmjP1"
      },
      "source": [
        "Amazon Prime hosts a vast library of movies and TV shows, and understanding the trends in content popularity, ratings, and audience engagement is crucial. The primary goal of this analysis is to provide insights into:\n",
        "\n",
        "* The distribution of movies and TV shows over the years.\n",
        "\n",
        "* Popular genres and their performance based on IMDb scores and audience engagement.\n",
        "\n",
        "* Trends in runtime, production countries, and certification ratings.\n",
        "\n",
        "* The relationship between IMDb scores, votes, and TMDb scores.\n",
        "\n",
        "* Patterns in actors and directors associated with high-rated content.\n",
        "\n",
        "By analyzing these factors, Amazon Prime can refine content recommendations, optimize acquisition strategies, and improve the user experience."
      ]
    },
    {
      "cell_type": "markdown",
      "metadata": {
        "id": "mDgbUHAGgjLW"
      },
      "source": [
        "# **General Guidelines** : -  "
      ]
    },
    {
      "cell_type": "markdown",
      "metadata": {
        "id": "ZrxVaUj-hHfC"
      },
      "source": [
        "1.   Well-structured, formatted, and commented code is required.\n",
        "2.   Exception Handling, Production Grade Code & Deployment Ready Code will be a plus. Those students will be awarded some additional credits.\n",
        "     \n",
        "     The additional credits will have advantages over other students during Star Student selection.\n",
        "       \n",
        "             [ Note: - Deployment Ready Code is defined as, the whole .ipynb notebook should be executable in one go\n",
        "                       without a single error logged. ]\n",
        "\n",
        "3.   Each and every logic should have proper comments.\n",
        "4. You may add as many number of charts you want. Make Sure for each and every chart the following format should be answered.\n",
        "        \n",
        "\n",
        "```\n",
        "# Chart visualization code\n",
        "```\n",
        "            \n",
        "\n",
        "*   Why did you pick the specific chart?\n",
        "*   What is/are the insight(s) found from the chart?\n",
        "* Will the gained insights help creating a positive business impact?\n",
        "Are there any insights that lead to negative growth? Justify with specific reason.\n",
        "\n",
        "5. You have to create at least 20 logical & meaningful charts having important insights.\n",
        "\n",
        "\n",
        "[ Hints : - Do the Vizualization in  a structured way while following \"UBM\" Rule.\n",
        "\n",
        "U - Univariate Analysis,\n",
        "\n",
        "B - Bivariate Analysis (Numerical - Categorical, Numerical - Numerical, Categorical - Categorical)\n",
        "\n",
        "M - Multivariate Analysis\n",
        " ]\n",
        "\n",
        "\n",
        "\n"
      ]
    },
    {
      "cell_type": "markdown",
      "metadata": {
        "id": "O_i_v8NEhb9l"
      },
      "source": [
        "# ***Let's Begin !***"
      ]
    },
    {
      "cell_type": "markdown",
      "metadata": {
        "id": "HhfV-JJviCcP"
      },
      "source": [
        "## ***1. Know Your Data***"
      ]
    },
    {
      "cell_type": "markdown",
      "metadata": {
        "id": "Y3lxredqlCYt"
      },
      "source": [
        "### Import Libraries"
      ]
    },
    {
      "cell_type": "code",
      "execution_count": null,
      "metadata": {
        "id": "M8Vqi-pPk-HR"
      },
      "outputs": [],
      "source": [
        "# Import Libraries \n",
        "import pandas as pd\n",
        "import numpy as np\n",
        "import ast\n",
        "import matplotlib.pyplot as plt\n",
        "import seaborn as sns\n",
        "import missingno as msno"
      ]
    },
    {
      "cell_type": "markdown",
      "metadata": {
        "id": "3RnN4peoiCZX"
      },
      "source": [
        "### Dataset Loading"
      ]
    },
    {
      "cell_type": "code",
      "execution_count": null,
      "metadata": {
        "id": "4CkvbW_SlZ_R"
      },
      "outputs": [],
      "source": [
        "\n",
        "# Load datasets\n",
        "titles_df = pd.read_csv('titles.csv')\n",
        "credits_df = pd.read_csv('credits.csv')"
      ]
    },
    {
      "cell_type": "markdown",
      "metadata": {
        "id": "x71ZqKXriCWQ"
      },
      "source": [
        "### Dataset First View"
      ]
    },
    {
      "cell_type": "code",
      "execution_count": null,
      "metadata": {
        "id": "LWNFOSvLl09H"
      },
      "outputs": [],
      "source": [
        "# Dataset First \n",
        "# Dataset First Look\n",
        "# Display dataset info\n",
        "titles_df.info()\n",
        "credits_df.info()"
      ]
    },
    {
      "cell_type": "markdown",
      "metadata": {
        "id": "7hBIi_osiCS2"
      },
      "source": [
        "### Dataset Rows & Columns count"
      ]
    },
    {
      "cell_type": "code",
      "execution_count": null,
      "metadata": {
        "id": "Kllu7SJgmLij"
      },
      "outputs": [],
      "source": [
        "# Dataset Rows & Columns \n",
        "# Check the number of rows and columns in each dataset\n",
        "titles_shape = titles_df.shape\n",
        "credits_shape = credits_df.shape\n",
        "\n",
        "titles_shape, credits_shape"
      ]
    },
    {
      "cell_type": "markdown",
      "metadata": {
        "id": "JlHwYmJAmNHm"
      },
      "source": [
        "### Dataset Information"
      ]
    },
    {
      "cell_type": "code",
      "execution_count": null,
      "metadata": {
        "id": "e9hRXRi6meOf"
      },
      "outputs": [],
      "source": [
        "# Dataset Info\n",
        "# Dataset Info\n",
        "titles_df.info()\n",
        "credits_df.info()"
      ]
    },
    {
      "cell_type": "markdown",
      "metadata": {
        "id": "35m5QtbWiB9F"
      },
      "source": [
        "#### Duplicate Values"
      ]
    },
    {
      "cell_type": "code",
      "execution_count": null,
      "metadata": {
        "id": "1sLdpKYkmox0"
      },
      "outputs": [],
      "source": [
        "# Dataset Duplicate Value Count\n",
        "titles_duplicates = titles_df.duplicated().sum()\n",
        "credits_duplicates = credits_df.duplicated().sum()\n",
        "\n",
        "titles_duplicates, credits_duplicates"
      ]
    },
    {
      "cell_type": "markdown",
      "metadata": {
        "id": "PoPl-ycgm1ru"
      },
      "source": [
        "#### Missing Values/Null Values"
      ]
    },
    {
      "cell_type": "code",
      "execution_count": null,
      "metadata": {
        "id": "GgHWkxvamxVg"
      },
      "outputs": [],
      "source": [
        "# Missing Values/Null Values Count\n",
        "# Check for missing values\n",
        "titles_missing = titles_df.isnull().sum()\n",
        "credits_missing = credits_df.isnull().sum()\n",
        "\n",
        "titles_missing, credits_missing"
      ]
    },
    {
      "cell_type": "code",
      "execution_count": null,
      "metadata": {
        "id": "3q5wnI3om9sJ"
      },
      "outputs": [],
      "source": [
        "# Visualizing the missing values\n",
        "msno.bar(titles_df)\n",
        "msno.bar(credits_df)"
      ]
    },
    {
      "cell_type": "markdown",
      "metadata": {
        "id": "H0kj-8xxnORC"
      },
      "source": [
        "### What did you know about your dataset?"
      ]
    },
    {
      "cell_type": "markdown",
      "metadata": {
        "id": "gfoNAAC-nUe_"
      },
      "source": [
        "Based on the initial analysis, we observed:\n",
        "\n",
        "1. The titles dataset contains information about movies and TV shows, including genres, release year, runtime, and ratings.\n",
        "2. The credits dataset includes details about cast and crew members.\n",
        "3. There are missing values in certain columns, which need further handling.\n",
        "4. Duplicate values exist and may need to be removed to maintain data integrity.\n",
        "\n",
        "Now, moving to the next section after this analysis. Let me check what's next.\n",
        "\n",
        "The next steps are:\n",
        "\n",
        "1. Understanding Your Variables\n",
        "2. Variables Description\n",
        "3. Check Unique Values for Each Variable\n",
        "\n",
        "Let's proceed step by step."
      ]
    },
    {
      "cell_type": "markdown",
      "metadata": {
        "id": "nA9Y7ga8ng1Z"
      },
      "source": [
        "## ***2. Understanding Your Variables***"
      ]
    },
    {
      "cell_type": "code",
      "execution_count": null,
      "metadata": {
        "id": "j7xfkqrt5Ag5"
      },
      "outputs": [],
      "source": [
        "# Dataset Columns\n",
        "# Dataset Columns\n",
        "print(\"Titles Dataset Columns:\", list(titles_df.columns))\n",
        "print(\"Credits Dataset Columns:\", list(credits_df.columns))"
      ]
    },
    {
      "cell_type": "code",
      "execution_count": null,
      "metadata": {
        "id": "DnOaZdaE5Q5t"
      },
      "outputs": [],
      "source": [
        "# Dataset Describe\n",
        "# Dataset Describe\n",
        "titles_description = titles_df.describe()\n",
        "credits_description = credits_df.describe()\n",
        "\n",
        "titles_description, credits_description"
      ]
    },
    {
      "cell_type": "markdown",
      "metadata": {
        "id": "PBTbrJXOngz2"
      },
      "source": [
        "### Variables Description"
      ]
    },
    {
      "cell_type": "markdown",
      "metadata": {
        "id": "aJV4KIxSnxay"
      },
      "source": [
        "The dataset consists of two files: titles.csv and credits.csv.\n",
        "\n",
        "**titles.csv (Contains metadata of movies and TV shows):**\n",
        "\n",
        "* id: Unique identifier for each movie/TV show.\n",
        "\n",
        "* title: Name of the movie or show.\n",
        "\n",
        "* type: Whether the content is a movie or TV show.\n",
        "\n",
        "* description: Brief synopsis of the content.\n",
        "\n",
        "* release_year: Year the content was released.\n",
        "\n",
        "* age_certification: Age rating of the content.\n",
        "\n",
        "* runtime: Duration of the content in minutes.\n",
        "\n",
        "* genres: Genres associated with the content.\n",
        "\n",
        "* production_countries: Countries involved in content production.\n",
        "\n",
        "* seasons: Number of seasons (for TV shows only).\n",
        "\n",
        "* imdb_id: IMDb identifier.\n",
        "\n",
        "* imdb_score: IMDb rating.\n",
        "\n",
        "* imdb_votes: Number of IMDb votes.\n",
        "\n",
        "* tmdb_popularity: Popularity score from TMDB.\n",
        "\n",
        "* tmdb_score: TMDB rating.\n",
        "\n",
        "**credits.csv (Contains cast and crew details):**\n",
        "\n",
        "* person_id: Unique identifier for actors/crew members.\n",
        "\n",
        "* id: Identifier linking to the titles.csv dataset.\n",
        "\n",
        "* name: Name of the actor/crew member.\n",
        "\n",
        "* character: Name of the character played (if applicable).\n",
        "\n",
        "* role: Role of the person (Actor, Director, etc.)."
      ]
    },
    {
      "cell_type": "markdown",
      "metadata": {
        "id": "u3PMJOP6ngxN"
      },
      "source": [
        "### Check Unique Values for each variable."
      ]
    },
    {
      "cell_type": "code",
      "execution_count": null,
      "metadata": {
        "id": "zms12Yq5n-jE"
      },
      "outputs": [],
      "source": [
        "# Check Unique Values for each variable.\n",
        "# Check Unique Values for each variable.\n",
        "titles_unique_values = titles_df.nunique()\n",
        "credits_unique_values = credits_df.nunique()\n",
        "\n",
        "titles_unique_values, credits_unique_values\n"
      ]
    },
    {
      "cell_type": "markdown",
      "metadata": {
        "id": "dauF4eBmngu3"
      },
      "source": [
        "## 3. ***Data Wrangling***"
      ]
    },
    {
      "cell_type": "markdown",
      "metadata": {
        "id": "bKJF3rekwFvQ"
      },
      "source": [
        "### Data Wrangling Code"
      ]
    },
    {
      "cell_type": "code",
      "execution_count": null,
      "metadata": {
        "id": "wk-9a2fpoLcV"
      },
      "outputs": [],
      "source": [
        "# Write your code to make your dataset analysis ready.\n",
        "# Write your code to make your dataset analysis ready.\n",
        "# 1. Remove duplicate rows\n",
        "titles_df = titles_df.drop_duplicates()\n",
        "credits_df = credits_df.drop_duplicates()\n",
        "\n",
        "# 2. Fill missing values\n",
        "titles_df.fillna({'age_certification': 'Unknown', \n",
        "                  'genres': 'Unknown', \n",
        "                  'production_countries': 'Unknown'}, inplace=True)\n",
        "credits_df.fillna({'role': 'Unknown'}, inplace=True)\n",
        "\n",
        "# 3. Convert data types\n",
        "titles_df['release_year'] = titles_df['release_year'].astype(int)\n",
        "titles_df['runtime'] = titles_df['runtime'].astype(float)\n",
        "\n",
        "# 4. Convert stringified lists (JSON-like) to actual lists\n",
        "def convert_to_list(value):\n",
        "    try:\n",
        "        return ast.literal_eval(value) if isinstance(value, str) else value\n",
        "    except:\n",
        "        return []\n",
        "\n",
        "titles_df['genres'] = titles_df['genres'].apply(convert_to_list)\n",
        "titles_df['production_countries'] = titles_df['production_countries'].apply(convert_to_list)\n",
        "\n",
        "# 5. Extracting first genre (for easier analysis)\n",
        "titles_df['primary_genre'] = titles_df['genres'].apply(lambda x: x[0] if len(x) > 0 else 'Unknown')\n",
        "\n",
        "# Display cleaned dataset info\n",
        "titles_df.info()\n",
        "credits_df.info()"
      ]
    },
    {
      "cell_type": "markdown",
      "metadata": {
        "id": "MSa1f5Uengrz"
      },
      "source": [
        "### What all manipulations have you done and insights you found?"
      ]
    },
    {
      "cell_type": "markdown",
      "metadata": {
        "id": "LbyXE7I1olp8"
      },
      "source": [
        "During the data cleaning and preprocessing steps, we performed the following manipulations:\n",
        "\n",
        "1. Removed duplicate rows – Ensuring no redundant data affects analysis.\n",
        "2. Handled missing values – Filled categorical columns with 'Unknown' to avoid data loss.\n",
        "3. Converted data types – Changed numerical columns like release_year and runtime to appropriate types.\n",
        "4. Processed JSON-like columns – Converted list-like string columns (genres, production_countries) into actual lists.\n",
        "5. Extracted primary genre – Created a new primary_genre column to simplify genre-based analysis.\n",
        "\n",
        "Insights Found:\n",
        "\n",
        "* The dataset contains a diverse range of movie genres and production countries.\n",
        "* Many records had missing age_certification, indicating incomplete metadata.\n",
        "* Some movies had extremely short or long runtimes, which could indicate data errors or unique cases."
      ]
    },
    {
      "cell_type": "markdown",
      "metadata": {
        "id": "GF8Ens_Soomf"
      },
      "source": [
        "## ***4. Data Vizualization, Storytelling & Experimenting with charts : Understand the relationships between variables***"
      ]
    },
    {
      "cell_type": "markdown",
      "metadata": {
        "id": "0wOQAZs5pc--"
      },
      "source": [
        "#### Chart - 1 Distribution of IMDb Scores"
      ]
    },
    {
      "cell_type": "code",
      "execution_count": null,
      "metadata": {
        "id": "7v_ESjsspbW7"
      },
      "outputs": [],
      "source": [
        "# Chart - 1 visualization \n",
        "# Chart - 1 visualization code\n",
        "import matplotlib.pyplot as plt\n",
        "import seaborn as sns\n",
        "\n",
        "# Plot histogram of IMDb scores\n",
        "plt.figure(figsize=(10,5))\n",
        "sns.histplot(titles_df['imdb_score'], bins=20, kde=True, color='blue')\n",
        "plt.title('Distribution of IMDb Scores')\n",
        "plt.xlabel('IMDb Score')\n",
        "plt.ylabel('Count')\n",
        "plt.grid(True)\n",
        "plt.show()"
      ]
    },
    {
      "cell_type": "markdown",
      "metadata": {
        "id": "K5QZ13OEpz2H"
      },
      "source": [
        "##### 1. Why did you pick the specific chart?"
      ]
    },
    {
      "cell_type": "markdown",
      "metadata": {
        "id": "XESiWehPqBRc"
      },
      "source": [
        "A histogram is ideal for understanding the overall distribution of IMDb scores in our dataset. It helps identify patterns, such as whether most shows/movies are highly rated or poorly rated."
      ]
    },
    {
      "cell_type": "markdown",
      "metadata": {
        "id": "lQ7QKXXCp7Bj"
      },
      "source": [
        "##### 2. What is/are the insight(s) found from the chart?"
      ]
    },
    {
      "cell_type": "markdown",
      "metadata": {
        "id": "C_j1G7yiqdRP"
      },
      "source": [
        "* If the histogram shows a normal distribution, it means most movies have average ratings.\n",
        "* If skewed, it suggests a bias toward either high or low ratings.\n",
        "* Peaks in certain ranges indicate rating clusters, like most movies scoring between 6-8."
      ]
    },
    {
      "cell_type": "markdown",
      "metadata": {
        "id": "448CDAPjqfQr"
      },
      "source": [
        "##### 3. Will the gained insights help creating a positive business impact?\n",
        "Are there any insights that lead to negative growth? Justify with specific reason."
      ]
    },
    {
      "cell_type": "markdown",
      "metadata": {
        "id": "3cspy4FjqxJW"
      },
      "source": [
        "Answer Here"
      ]
    },
    {
      "cell_type": "markdown",
      "metadata": {
        "id": "KSlN3yHqYklG"
      },
      "source": [
        "#### Chart - 2 Number of Titles Released per Year"
      ]
    },
    {
      "cell_type": "code",
      "execution_count": null,
      "metadata": {
        "id": "R4YgtaqtYklH"
      },
      "outputs": [],
      "source": [
        "# Chart - 2 visualization \n",
        "# Chart - 2 visualization code\n",
        "plt.figure(figsize=(12, 6))\n",
        "titles_per_year = titles_df['release_year'].value_counts().sort_index()\n",
        "\n",
        "sns.lineplot(x=titles_per_year.index, y=titles_per_year.values, marker='o', color='red')\n",
        "plt.title('Number of Titles Released per Year')\n",
        "plt.xlabel('Release Year')\n",
        "plt.ylabel('Number of Titles')\n",
        "plt.grid(True)\n",
        "plt.show()"
      ]
    },
    {
      "cell_type": "markdown",
      "metadata": {
        "id": "t6dVpIINYklI"
      },
      "source": [
        "##### 1. Why did you pick the specific chart?"
      ]
    },
    {
      "cell_type": "markdown",
      "metadata": {
        "id": "5aaW0BYyYklI"
      },
      "source": [
        "A line chart is ideal for tracking trends over time. This helps us analyze how the number of movies and shows produced has evolved over the years."
      ]
    },
    {
      "cell_type": "markdown",
      "metadata": {
        "id": "ijmpgYnKYklI"
      },
      "source": [
        "##### 2. What is/are the insight(s) found from the chart?"
      ]
    },
    {
      "cell_type": "markdown",
      "metadata": {
        "id": "PSx9atu2YklI"
      },
      "source": [
        "* If the chart shows a rising trend, it indicates increasing production over time.\n",
        "* A sharp decline in certain years may indicate industry disruptions (e.g., COVID-19 in 2020).\n",
        "* Peaks in specific periods might correspond to the rise of streaming services."
      ]
    },
    {
      "cell_type": "markdown",
      "metadata": {
        "id": "-JiQyfWJYklI"
      },
      "source": [
        "##### 3. Will the gained insights help creating a positive business impact?\n",
        "Are there any insights that lead to negative growth? Justify with specific reason."
      ]
    },
    {
      "cell_type": "markdown",
      "metadata": {
        "id": "BcBbebzrYklV"
      },
      "source": [
        "* Helps forecast content production trends for future investment.\n",
        "* Enables platform expansion planning by understanding when new content surges.\n",
        "* Identifies historical dips, helping businesses prepare for similar scenarios in the future."
      ]
    },
    {
      "cell_type": "markdown",
      "metadata": {
        "id": "EM7whBJCYoAo"
      },
      "source": [
        "#### Chart - 3 Top 10 Most Common Genres"
      ]
    },
    {
      "cell_type": "code",
      "execution_count": null,
      "metadata": {
        "id": "t6GMdE67YoAp"
      },
      "outputs": [],
      "source": [
        "# Chart - 3 visualization code\n",
        "# Extract all genres and count occurrences\n",
        "from collections import Counter\n",
        "\n",
        "all_genres = [genre for sublist in titles_df['genres'] for genre in sublist]\n",
        "genre_counts = Counter(all_genres)\n",
        "top_10_genres = genre_counts.most_common(10)\n",
        "\n",
        "# Convert to DataFrame for plotting\n",
        "genres_df = pd.DataFrame(top_10_genres, columns=['Genre', 'Count'])\n",
        "\n",
        "# Plot bar chart\n",
        "plt.figure(figsize=(10, 6))\n",
        "sns.barplot(x='Count', y='Genre', data=genres_df, palette='viridis')\n",
        "plt.title('Top 10 Most Common Genres')\n",
        "plt.xlabel('Number of Titles')\n",
        "plt.ylabel('Genres')\n",
        "plt.grid(True)\n",
        "plt.show()\n"
      ]
    },
    {
      "cell_type": "markdown",
      "metadata": {
        "id": "fge-S5ZAYoAp"
      },
      "source": [
        "##### 1. Why did you pick the specific chart?"
      ]
    },
    {
      "cell_type": "markdown",
      "metadata": {
        "id": "5dBItgRVYoAp"
      },
      "source": [
        "A bar chart is best for visualizing the most frequent genres, helping understand audience preferences and content distribution."
      ]
    },
    {
      "cell_type": "markdown",
      "metadata": {
        "id": "85gYPyotYoAp"
      },
      "source": [
        "##### 2. What is/are the insight(s) found from the chart?"
      ]
    },
    {
      "cell_type": "markdown",
      "metadata": {
        "id": "4jstXR6OYoAp"
      },
      "source": [
        "* Identifies the most dominant genres on Amazon Prime.\n",
        "* If genres like \"Drama\" or \"Action\" dominate, it suggests user preference for intense storytelling.\n",
        "* Less frequent genres indicate potential gaps in content strategy."
      ]
    },
    {
      "cell_type": "markdown",
      "metadata": {
        "id": "RoGjAbkUYoAp"
      },
      "source": [
        "##### 3. Will the gained insights help creating a positive business impact?\n",
        "Are there any insights that lead to negative growth? Justify with specific reason."
      ]
    },
    {
      "cell_type": "markdown",
      "metadata": {
        "id": "zfJ8IqMcYoAp"
      },
      "source": [
        "* Content Acquisition: Focus on popular genres to attract more viewers.\n",
        "* Personalization: Recommend top genres to improve user engagement.\n",
        "* Strategic Expansion: Identify less common genres and invest in niche markets."
      ]
    },
    {
      "cell_type": "markdown",
      "metadata": {
        "id": "4Of9eVA-YrdM"
      },
      "source": [
        "#### Chart - 4 Average IMDb Score by Genre"
      ]
    },
    {
      "cell_type": "code",
      "execution_count": null,
      "metadata": {
        "id": "irlUoxc8YrdO"
      },
      "outputs": [],
      "source": [
        "# Chart - 4 visualization \n",
        "# Explode genres and calculate average IMDb score per genre\n",
        "genre_imdb_scores = []\n",
        "for i, row in titles_df.iterrows():\n",
        "    for genre in row['genres']:\n",
        "        genre_imdb_scores.append((genre, row['imdb_score']))\n",
        "\n",
        "# Convert to DataFrame\n",
        "genre_imdb_df = pd.DataFrame(genre_imdb_scores, columns=['Genre', 'IMDb Score'])\n",
        "\n",
        "# Compute mean IMDb score per genre\n",
        "genre_avg_scores = genre_imdb_df.groupby('Genre')['IMDb Score'].mean().sort_values(ascending=False).head(10)\n",
        "\n",
        "# Plot bar chart\n",
        "plt.figure(figsize=(12, 6))\n",
        "sns.barplot(x=genre_avg_scores.values, y=genre_avg_scores.index, palette='coolwarm')\n",
        "plt.title('Top 10 Genres by Average IMDb Score')\n",
        "plt.xlabel('Average IMDb Score')\n",
        "plt.ylabel('Genre')\n",
        "plt.grid(True)\n",
        "plt.show()\n"
      ]
    },
    {
      "cell_type": "markdown",
      "metadata": {
        "id": "iky9q4vBYrdO"
      },
      "source": [
        "##### 1. Why did you pick the specific chart?"
      ]
    },
    {
      "cell_type": "markdown",
      "metadata": {
        "id": "aJRCwT6DYrdO"
      },
      "source": [
        "A bar chart is ideal for comparing the average IMDb score across different genres, helping us identify the highest-rated content categories."
      ]
    },
    {
      "cell_type": "markdown",
      "metadata": {
        "id": "F6T5p64dYrdO"
      },
      "source": [
        "##### 2. What is/are the insight(s) found from the chart?"
      ]
    },
    {
      "cell_type": "markdown",
      "metadata": {
        "id": "Xx8WAJvtYrdO"
      },
      "source": [
        "* Helps identify which genres tend to receive higher audience ratings.\n",
        "* If genres like \"Documentary\" or \"Crime\" have the highest ratings, it suggests viewer appreciation for realistic and investigative content.\n",
        "* Lower-rated genres may need quality improvements or better curation."
      ]
    },
    {
      "cell_type": "markdown",
      "metadata": {
        "id": "y-Ehk30pYrdP"
      },
      "source": [
        "##### 3. Will the gained insights help creating a positive business impact?\n",
        "Are there any insights that lead to negative growth? Justify with specific reason."
      ]
    },
    {
      "cell_type": "markdown",
      "metadata": {
        "id": "jLNxxz7MYrdP"
      },
      "source": [
        "* Content Investment: Prioritize high-rated genres for better user retention.\n",
        "* Quality Control: Identify low-rated genres to improve production standards.\n",
        "* Marketing Strategy: Promote high-rated genres more aggressively to increase engagement."
      ]
    },
    {
      "cell_type": "markdown",
      "metadata": {
        "id": "bamQiAODYuh1"
      },
      "source": [
        "#### Chart - 5 Distribution of Movie Runtimes"
      ]
    },
    {
      "cell_type": "code",
      "execution_count": null,
      "metadata": {
        "id": "TIJwrbroYuh3"
      },
      "outputs": [],
      "source": [
        "# Chart - 5 visualization code\n",
        "plt.figure(figsize=(10, 6))\n",
        "sns.boxplot(y=titles_df['runtime'], color='purple')\n",
        "plt.title('Distribution of Movie Runtimes')\n",
        "plt.ylabel('Runtime (minutes)')\n",
        "plt.grid(True)\n",
        "plt.show()"
      ]
    },
    {
      "cell_type": "markdown",
      "metadata": {
        "id": "QHF8YVU7Yuh3"
      },
      "source": [
        "##### 1. Why did you pick the specific chart?"
      ]
    },
    {
      "cell_type": "markdown",
      "metadata": {
        "id": "dcxuIMRPYuh3"
      },
      "source": [
        "A box plot is useful for analyzing the spread and outliers in movie runtimes. This helps identify typical movie lengths and extreme values (very short or very long movies)."
      ]
    },
    {
      "cell_type": "markdown",
      "metadata": {
        "id": "GwzvFGzlYuh3"
      },
      "source": [
        "##### 2. What is/are the insight(s) found from the chart?"
      ]
    },
    {
      "cell_type": "markdown",
      "metadata": {
        "id": "uyqkiB8YYuh3"
      },
      "source": [
        "* If the box plot shows a tight interquartile range (IQR), most movies have consistent runtimes.\n",
        "* Outliers on the higher end (very long movies) or lower end (short films) suggest runtime variations.\n",
        "* The median runtime helps determine the most common movie length."
      ]
    },
    {
      "cell_type": "markdown",
      "metadata": {
        "id": "qYpmQ266Yuh3"
      },
      "source": [
        "##### 3. Will the gained insights help creating a positive business impact?\n",
        "Are there any insights that lead to negative growth? Justify with specific reason."
      ]
    },
    {
      "cell_type": "markdown",
      "metadata": {
        "id": "_WtzZ_hCYuh4"
      },
      "source": [
        "* Better Recommendations: Suggest movies based on users’ preferred runtimes.\n",
        "* Content Optimization: Understand whether shorter or longer movies perform better.\n",
        "* Improved Streaming Strategy: Optimize ad placement for better engagement."
      ]
    },
    {
      "cell_type": "markdown",
      "metadata": {
        "id": "OH-pJp9IphqM"
      },
      "source": [
        "#### Chart - 6 IMDb Score vs. Runtime"
      ]
    },
    {
      "cell_type": "code",
      "execution_count": null,
      "metadata": {
        "id": "kuRf4wtuphqN"
      },
      "outputs": [],
      "source": [
        "# Chart - 6 visualization code\n",
        "plt.figure(figsize=(10, 6))\n",
        "sns.scatterplot(x=titles_df['runtime'], y=titles_df['imdb_score'], alpha=0.5, color='blue')\n",
        "plt.title('IMDb Score vs. Runtime')\n",
        "plt.xlabel('Runtime (minutes)')\n",
        "plt.ylabel('IMDb Score')\n",
        "plt.grid(True)\n",
        "plt.show()"
      ]
    },
    {
      "cell_type": "markdown",
      "metadata": {
        "id": "bbFf2-_FphqN"
      },
      "source": [
        "##### 1. Why did you pick the specific chart?"
      ]
    },
    {
      "cell_type": "markdown",
      "metadata": {
        "id": "loh7H2nzphqN"
      },
      "source": [
        "A scatter plot helps us identify if there's a relationship between movie runtime and IMDb scores. It reveals whether longer or shorter movies tend to get higher ratings."
      ]
    },
    {
      "cell_type": "markdown",
      "metadata": {
        "id": "_ouA3fa0phqN"
      },
      "source": [
        "##### 2. What is/are the insight(s) found from the chart?"
      ]
    },
    {
      "cell_type": "markdown",
      "metadata": {
        "id": "VECbqPI7phqN"
      },
      "source": [
        "* If the points show an upward trend, longer movies tend to have higher ratings.\n",
        "* A flat or random distribution suggests no strong correlation between runtime and IMDb score.\n",
        "* If shorter movies have consistently low ratings, platforms may need to improve short content quality."
      ]
    },
    {
      "cell_type": "markdown",
      "metadata": {
        "id": "Seke61FWphqN"
      },
      "source": [
        "##### 3. Will the gained insights help creating a positive business impact?\n",
        "Are there any insights that lead to negative growth? Justify with specific reason."
      ]
    },
    {
      "cell_type": "markdown",
      "metadata": {
        "id": "DW4_bGpfphqN"
      },
      "source": [
        "* Content Strategy: If longer movies perform better, invest in high-quality, long-form content.\n",
        "* User Engagement: Provide runtime-based filtering for users who prefer high-rated movies.\n",
        "* Production Planning: Optimize runtimes for better audience reception."
      ]
    },
    {
      "cell_type": "markdown",
      "metadata": {
        "id": "PIIx-8_IphqN"
      },
      "source": [
        "#### Chart - 7"
      ]
    },
    {
      "cell_type": "code",
      "execution_count": null,
      "metadata": {
        "id": "lqAIGUfyphqO"
      },
      "outputs": [],
      "source": [
        "# Chart - 7 visualization code"
      ]
    },
    {
      "cell_type": "markdown",
      "metadata": {
        "id": "t27r6nlMphqO"
      },
      "source": [
        "##### 1. Why did you pick the specific chart?"
      ]
    },
    {
      "cell_type": "markdown",
      "metadata": {
        "id": "iv6ro40sphqO"
      },
      "source": [
        "Answer Here."
      ]
    },
    {
      "cell_type": "markdown",
      "metadata": {
        "id": "r2jJGEOYphqO"
      },
      "source": [
        "##### 2. What is/are the insight(s) found from the chart?"
      ]
    },
    {
      "cell_type": "markdown",
      "metadata": {
        "id": "Po6ZPi4hphqO"
      },
      "source": [
        "Answer Here"
      ]
    },
    {
      "cell_type": "markdown",
      "metadata": {
        "id": "b0JNsNcRphqO"
      },
      "source": [
        "##### 3. Will the gained insights help creating a positive business impact?\n",
        "Are there any insights that lead to negative growth? Justify with specific reason."
      ]
    },
    {
      "cell_type": "markdown",
      "metadata": {
        "id": "xvSq8iUTphqO"
      },
      "source": [
        "Answer Here"
      ]
    },
    {
      "cell_type": "markdown",
      "metadata": {
        "id": "BZR9WyysphqO"
      },
      "source": [
        "#### Chart - 8"
      ]
    },
    {
      "cell_type": "code",
      "execution_count": null,
      "metadata": {
        "id": "TdPTWpAVphqO"
      },
      "outputs": [],
      "source": [
        "# Chart - 8 visualization code"
      ]
    },
    {
      "cell_type": "markdown",
      "metadata": {
        "id": "jj7wYXLtphqO"
      },
      "source": [
        "##### 1. Why did you pick the specific chart?"
      ]
    },
    {
      "cell_type": "markdown",
      "metadata": {
        "id": "Ob8u6rCTphqO"
      },
      "source": [
        "Answer Here."
      ]
    },
    {
      "cell_type": "markdown",
      "metadata": {
        "id": "eZrbJ2SmphqO"
      },
      "source": [
        "##### 2. What is/are the insight(s) found from the chart?"
      ]
    },
    {
      "cell_type": "markdown",
      "metadata": {
        "id": "mZtgC_hjphqO"
      },
      "source": [
        "Answer Here"
      ]
    },
    {
      "cell_type": "markdown",
      "metadata": {
        "id": "rFu4xreNphqO"
      },
      "source": [
        "##### 3. Will the gained insights help creating a positive business impact?\n",
        "Are there any insights that lead to negative growth? Justify with specific reason."
      ]
    },
    {
      "cell_type": "markdown",
      "metadata": {
        "id": "ey_0qi68phqO"
      },
      "source": [
        "Answer Here"
      ]
    },
    {
      "cell_type": "markdown",
      "metadata": {
        "id": "YJ55k-q6phqO"
      },
      "source": [
        "#### Chart - 9"
      ]
    },
    {
      "cell_type": "code",
      "execution_count": null,
      "metadata": {
        "id": "B2aS4O1ophqO"
      },
      "outputs": [],
      "source": [
        "# Chart - 9 visualization code"
      ]
    },
    {
      "cell_type": "markdown",
      "metadata": {
        "id": "gCFgpxoyphqP"
      },
      "source": [
        "##### 1. Why did you pick the specific chart?"
      ]
    },
    {
      "cell_type": "markdown",
      "metadata": {
        "id": "TVxDimi2phqP"
      },
      "source": [
        "Answer Here."
      ]
    },
    {
      "cell_type": "markdown",
      "metadata": {
        "id": "OVtJsKN_phqQ"
      },
      "source": [
        "##### 2. What is/are the insight(s) found from the chart?"
      ]
    },
    {
      "cell_type": "markdown",
      "metadata": {
        "id": "ngGi97qjphqQ"
      },
      "source": [
        "Answer Here"
      ]
    },
    {
      "cell_type": "markdown",
      "metadata": {
        "id": "lssrdh5qphqQ"
      },
      "source": [
        "##### 3. Will the gained insights help creating a positive business impact?\n",
        "Are there any insights that lead to negative growth? Justify with specific reason."
      ]
    },
    {
      "cell_type": "markdown",
      "metadata": {
        "id": "tBpY5ekJphqQ"
      },
      "source": [
        "Answer Here"
      ]
    },
    {
      "cell_type": "markdown",
      "metadata": {
        "id": "U2RJ9gkRphqQ"
      },
      "source": [
        "#### Chart - 10"
      ]
    },
    {
      "cell_type": "code",
      "execution_count": null,
      "metadata": {
        "id": "GM7a4YP4phqQ"
      },
      "outputs": [],
      "source": [
        "# Chart - 10 visualization code"
      ]
    },
    {
      "cell_type": "markdown",
      "metadata": {
        "id": "1M8mcRywphqQ"
      },
      "source": [
        "##### 1. Why did you pick the specific chart?"
      ]
    },
    {
      "cell_type": "markdown",
      "metadata": {
        "id": "8agQvks0phqQ"
      },
      "source": [
        "Answer Here."
      ]
    },
    {
      "cell_type": "markdown",
      "metadata": {
        "id": "tgIPom80phqQ"
      },
      "source": [
        "##### 2. What is/are the insight(s) found from the chart?"
      ]
    },
    {
      "cell_type": "markdown",
      "metadata": {
        "id": "Qp13pnNzphqQ"
      },
      "source": [
        "Answer Here"
      ]
    },
    {
      "cell_type": "markdown",
      "metadata": {
        "id": "JMzcOPDDphqR"
      },
      "source": [
        "##### 3. Will the gained insights help creating a positive business impact?\n",
        "Are there any insights that lead to negative growth? Justify with specific reason."
      ]
    },
    {
      "cell_type": "markdown",
      "metadata": {
        "id": "R4Ka1PC2phqR"
      },
      "source": [
        "Answer Here"
      ]
    },
    {
      "cell_type": "markdown",
      "metadata": {
        "id": "x-EpHcCOp1ci"
      },
      "source": [
        "#### Chart - 11"
      ]
    },
    {
      "cell_type": "code",
      "execution_count": null,
      "metadata": {
        "id": "mAQTIvtqp1cj"
      },
      "outputs": [],
      "source": [
        "# Chart - 11 visualization code"
      ]
    },
    {
      "cell_type": "markdown",
      "metadata": {
        "id": "X_VqEhTip1ck"
      },
      "source": [
        "##### 1. Why did you pick the specific chart?"
      ]
    },
    {
      "cell_type": "markdown",
      "metadata": {
        "id": "-vsMzt_np1ck"
      },
      "source": [
        "Answer Here."
      ]
    },
    {
      "cell_type": "markdown",
      "metadata": {
        "id": "8zGJKyg5p1ck"
      },
      "source": [
        "##### 2. What is/are the insight(s) found from the chart?"
      ]
    },
    {
      "cell_type": "markdown",
      "metadata": {
        "id": "ZYdMsrqVp1ck"
      },
      "source": [
        "Answer Here"
      ]
    },
    {
      "cell_type": "markdown",
      "metadata": {
        "id": "PVzmfK_Ep1ck"
      },
      "source": [
        "##### 3. Will the gained insights help creating a positive business impact?\n",
        "Are there any insights that lead to negative growth? Justify with specific reason."
      ]
    },
    {
      "cell_type": "markdown",
      "metadata": {
        "id": "druuKYZpp1ck"
      },
      "source": [
        "Answer Here"
      ]
    },
    {
      "cell_type": "markdown",
      "metadata": {
        "id": "n3dbpmDWp1ck"
      },
      "source": [
        "#### Chart - 12"
      ]
    },
    {
      "cell_type": "code",
      "execution_count": null,
      "metadata": {
        "id": "bwevp1tKp1ck"
      },
      "outputs": [],
      "source": [
        "# Chart - 12 visualization code"
      ]
    },
    {
      "cell_type": "markdown",
      "metadata": {
        "id": "ylSl6qgtp1ck"
      },
      "source": [
        "##### 1. Why did you pick the specific chart?"
      ]
    },
    {
      "cell_type": "markdown",
      "metadata": {
        "id": "m2xqNkiQp1ck"
      },
      "source": [
        "Answer Here."
      ]
    },
    {
      "cell_type": "markdown",
      "metadata": {
        "id": "ZWILFDl5p1ck"
      },
      "source": [
        "##### 2. What is/are the insight(s) found from the chart?"
      ]
    },
    {
      "cell_type": "markdown",
      "metadata": {
        "id": "x-lUsV2mp1ck"
      },
      "source": [
        "Answer Here"
      ]
    },
    {
      "cell_type": "markdown",
      "metadata": {
        "id": "M7G43BXep1ck"
      },
      "source": [
        "##### 3. Will the gained insights help creating a positive business impact?\n",
        "Are there any insights that lead to negative growth? Justify with specific reason."
      ]
    },
    {
      "cell_type": "markdown",
      "metadata": {
        "id": "5wwDJXsLp1cl"
      },
      "source": [
        "Answer Here"
      ]
    },
    {
      "cell_type": "markdown",
      "metadata": {
        "id": "Ag9LCva-p1cl"
      },
      "source": [
        "#### Chart - 13"
      ]
    },
    {
      "cell_type": "code",
      "execution_count": null,
      "metadata": {
        "id": "EUfxeq9-p1cl"
      },
      "outputs": [],
      "source": [
        "# Chart - 13 visualization code"
      ]
    },
    {
      "cell_type": "markdown",
      "metadata": {
        "id": "E6MkPsBcp1cl"
      },
      "source": [
        "##### 1. Why did you pick the specific chart?"
      ]
    },
    {
      "cell_type": "markdown",
      "metadata": {
        "id": "V22bRsFWp1cl"
      },
      "source": [
        "Answer Here."
      ]
    },
    {
      "cell_type": "markdown",
      "metadata": {
        "id": "2cELzS2fp1cl"
      },
      "source": [
        "##### 2. What is/are the insight(s) found from the chart?"
      ]
    },
    {
      "cell_type": "markdown",
      "metadata": {
        "id": "ozQPc2_Ip1cl"
      },
      "source": [
        "Answer Here"
      ]
    },
    {
      "cell_type": "markdown",
      "metadata": {
        "id": "3MPXvC8up1cl"
      },
      "source": [
        "##### 3. Will the gained insights help creating a positive business impact?\n",
        "Are there any insights that lead to negative growth? Justify with specific reason."
      ]
    },
    {
      "cell_type": "markdown",
      "metadata": {
        "id": "GL8l1tdLp1cl"
      },
      "source": [
        "Answer Here"
      ]
    },
    {
      "cell_type": "markdown",
      "metadata": {
        "id": "NC_X3p0fY2L0"
      },
      "source": [
        "#### Chart - 14 - Correlation Heatmap"
      ]
    },
    {
      "cell_type": "code",
      "execution_count": null,
      "metadata": {
        "id": "xyC9zolEZNRQ"
      },
      "outputs": [],
      "source": [
        "# Correlation Heatmap visualization code"
      ]
    },
    {
      "cell_type": "markdown",
      "metadata": {
        "id": "UV0SzAkaZNRQ"
      },
      "source": [
        "##### 1. Why did you pick the specific chart?"
      ]
    },
    {
      "cell_type": "markdown",
      "metadata": {
        "id": "DVPuT8LYZNRQ"
      },
      "source": [
        "Answer Here."
      ]
    },
    {
      "cell_type": "markdown",
      "metadata": {
        "id": "YPEH6qLeZNRQ"
      },
      "source": [
        "##### 2. What is/are the insight(s) found from the chart?"
      ]
    },
    {
      "cell_type": "markdown",
      "metadata": {
        "id": "bfSqtnDqZNRR"
      },
      "source": [
        "Answer Here"
      ]
    },
    {
      "cell_type": "markdown",
      "metadata": {
        "id": "q29F0dvdveiT"
      },
      "source": [
        "#### Chart - 15 - Pair Plot"
      ]
    },
    {
      "cell_type": "code",
      "execution_count": null,
      "metadata": {
        "id": "o58-TEIhveiU"
      },
      "outputs": [],
      "source": [
        "# Pair Plot visualization code"
      ]
    },
    {
      "cell_type": "markdown",
      "metadata": {
        "id": "EXh0U9oCveiU"
      },
      "source": [
        "##### 1. Why did you pick the specific chart?"
      ]
    },
    {
      "cell_type": "markdown",
      "metadata": {
        "id": "eMmPjTByveiU"
      },
      "source": [
        "Answer Here."
      ]
    },
    {
      "cell_type": "markdown",
      "metadata": {
        "id": "22aHeOlLveiV"
      },
      "source": [
        "##### 2. What is/are the insight(s) found from the chart?"
      ]
    },
    {
      "cell_type": "markdown",
      "metadata": {
        "id": "uPQ8RGwHveiV"
      },
      "source": [
        "Answer Here"
      ]
    },
    {
      "cell_type": "markdown",
      "metadata": {
        "id": "JcMwzZxoAimU"
      },
      "source": [
        "## **5. Solution to Business Objective**"
      ]
    },
    {
      "cell_type": "markdown",
      "metadata": {
        "id": "8G2x9gOozGDZ"
      },
      "source": [
        "#### What do you suggest the client to achieve Business Objective ?\n",
        "Explain Briefly."
      ]
    },
    {
      "cell_type": "markdown",
      "metadata": {
        "id": "pASKb0qOza21"
      },
      "source": [
        "Based on the exploratory data analysis, we can provide the following recommendations:\n",
        "\n",
        "1. Content Acquisition Strategy:\n",
        "\n",
        "* Identify high-performing genres based on IMDb and TMDB scores and prioritize acquiring or producing content in those genres.\n",
        "\n",
        "* Analyze country-wise content performance to tailor regional content preferences.\n",
        "\n",
        "2. Audience Engagement & Recommendations:\n",
        "\n",
        "* Leverage IMDb and TMDB popularity metrics to recommend trending movies and TV shows to users.\n",
        "\n",
        "* Improve personalized recommendations by analyzing correlations between user engagement and movie ratings.\n",
        "\n",
        "3. Marketing & Promotion:\n",
        "\n",
        "* Promote top-rated movies and shows using IMDb and TMDB scores as key marketing points.\n",
        "\n",
        "* Use actor/director analysis to highlight the presence of popular individuals in promotional materials.\n",
        "\n",
        "4. Runtime & Certification Insights:\n",
        "\n",
        "* Understand audience preferences for content length and optimize future productions accordingly.\n",
        "\n",
        "* Analyze age certification trends to determine the demand for family-friendly vs. mature content.\n",
        "\n"
      ]
    },
    {
      "cell_type": "markdown",
      "metadata": {
        "id": "gCX9965dhzqZ"
      },
      "source": [
        "# **Conclusion**"
      ]
    },
    {
      "cell_type": "markdown",
      "metadata": {
        "id": "Fjb1IsQkh3yE"
      },
      "source": [
        "\n",
        "By analyzing the dataset, we derive key insights into content trends, audience preferences, and factors influencing ratings and popularity. These findings can help Amazon Prime optimize its content strategy by focusing on high-performing genres, leveraging data-driven recommendations, and refining marketing strategies. The analysis provides a structured approach for Amazon Prime to enhance user engagement and maximize content value through data-backed decision-making.\n",
        "\n"
      ]
    },
    {
      "cell_type": "markdown",
      "metadata": {
        "id": "gIfDvo9L0UH2"
      },
      "source": [
        "### ***Hurrah! You have successfully completed your EDA Capstone Project !!!***"
      ]
    }
  ],
  "metadata": {
    "colab": {
      "collapsed_sections": [
        "vncDsAP0Gaoa",
        "FJNUwmbgGyua",
        "w6K7xa23Elo4",
        "yQaldy8SH6Dl",
        "PH-0ReGfmX4f",
        "mDgbUHAGgjLW",
        "O_i_v8NEhb9l",
        "HhfV-JJviCcP",
        "Y3lxredqlCYt",
        "3RnN4peoiCZX",
        "x71ZqKXriCWQ",
        "7hBIi_osiCS2",
        "JlHwYmJAmNHm",
        "35m5QtbWiB9F",
        "PoPl-ycgm1ru",
        "H0kj-8xxnORC",
        "nA9Y7ga8ng1Z",
        "PBTbrJXOngz2",
        "u3PMJOP6ngxN",
        "dauF4eBmngu3",
        "bKJF3rekwFvQ",
        "MSa1f5Uengrz",
        "GF8Ens_Soomf",
        "0wOQAZs5pc--",
        "K5QZ13OEpz2H",
        "lQ7QKXXCp7Bj",
        "448CDAPjqfQr",
        "KSlN3yHqYklG",
        "t6dVpIINYklI",
        "ijmpgYnKYklI",
        "-JiQyfWJYklI",
        "EM7whBJCYoAo",
        "fge-S5ZAYoAp",
        "85gYPyotYoAp",
        "RoGjAbkUYoAp",
        "4Of9eVA-YrdM",
        "iky9q4vBYrdO",
        "F6T5p64dYrdO",
        "y-Ehk30pYrdP",
        "bamQiAODYuh1",
        "QHF8YVU7Yuh3",
        "GwzvFGzlYuh3",
        "qYpmQ266Yuh3",
        "OH-pJp9IphqM",
        "bbFf2-_FphqN",
        "_ouA3fa0phqN",
        "Seke61FWphqN",
        "PIIx-8_IphqN",
        "t27r6nlMphqO",
        "r2jJGEOYphqO",
        "b0JNsNcRphqO",
        "BZR9WyysphqO",
        "jj7wYXLtphqO",
        "eZrbJ2SmphqO",
        "rFu4xreNphqO",
        "YJ55k-q6phqO",
        "gCFgpxoyphqP",
        "OVtJsKN_phqQ",
        "lssrdh5qphqQ",
        "U2RJ9gkRphqQ",
        "1M8mcRywphqQ",
        "tgIPom80phqQ",
        "JMzcOPDDphqR",
        "x-EpHcCOp1ci",
        "X_VqEhTip1ck",
        "8zGJKyg5p1ck",
        "PVzmfK_Ep1ck",
        "n3dbpmDWp1ck",
        "ylSl6qgtp1ck",
        "ZWILFDl5p1ck",
        "M7G43BXep1ck",
        "Ag9LCva-p1cl",
        "E6MkPsBcp1cl",
        "2cELzS2fp1cl",
        "3MPXvC8up1cl",
        "NC_X3p0fY2L0",
        "UV0SzAkaZNRQ",
        "YPEH6qLeZNRQ",
        "q29F0dvdveiT",
        "EXh0U9oCveiU",
        "22aHeOlLveiV",
        "JcMwzZxoAimU",
        "8G2x9gOozGDZ",
        "gCX9965dhzqZ",
        "gIfDvo9L0UH2"
      ],
      "private_outputs": true,
      "provenance": []
    },
    "kernelspec": {
      "display_name": "base",
      "language": "python",
      "name": "python3"
    },
    "language_info": {
      "codemirror_mode": {
        "name": "ipython",
        "version": 3
      },
      "file_extension": ".py",
      "mimetype": "text/x-python",
      "name": "python",
      "nbconvert_exporter": "python",
      "pygments_lexer": "ipython3",
      "version": "3.12.4"
    }
  },
  "nbformat": 4,
  "nbformat_minor": 0
}
