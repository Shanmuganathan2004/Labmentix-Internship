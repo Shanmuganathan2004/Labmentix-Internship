{
  "nbformat": 4,
  "nbformat_minor": 0,
  "metadata": {
    "colab": {
      "private_outputs": true,
      "provenance": [],
      "collapsed_sections": [
        "beRrZCGUAJYm",
        "w6K7xa23Elo4",
        "mDgbUHAGgjLW",
        "nA9Y7ga8ng1Z",
        "bKJF3rekwFvQ",
        "MSa1f5Uengrz",
        "0wOQAZs5pc--",
        "KSlN3yHqYklG",
        "EM7whBJCYoAo",
        "4Of9eVA-YrdM",
        "bamQiAODYuh1",
        "OH-pJp9IphqM",
        "Seke61FWphqN",
        "BZR9WyysphqO",
        "eZrbJ2SmphqO",
        "Ag9LCva-p1cl",
        "2cELzS2fp1cl",
        "YJ55k-q6phqO",
        "NC_X3p0fY2L0",
        "PIIx-8_IphqN",
        "8G2x9gOozGDZ",
        "gIfDvo9L0UH2"
      ]
    },
    "kernelspec": {
      "name": "python3",
      "display_name": "Python 3"
    },
    "language_info": {
      "name": "python"
    }
  },
  "cells": [
    {
      "cell_type": "code",
      "source": [],
      "metadata": {
        "id": "I1apcow5dxii"
      },
      "execution_count": null,
      "outputs": []
    },
    {
      "cell_type": "markdown",
      "source": [
        "# **Project Name**    - Exploratory Data Analysis on Glassdoor website Project\n",
        "\n"
      ],
      "metadata": {
        "id": "vncDsAP0Gaoa"
      }
    },
    {
      "cell_type": "markdown",
      "source": [
        "##### **Project Type**    - EDA\n",
        "##### **Contribution**    - Individual\n",
        "##### **Member 1 -** Shanmmuganathan.S\n"
      ],
      "metadata": {
        "id": "beRrZCGUAJYm"
      }
    },
    {
      "cell_type": "markdown",
      "source": [
        "# **Project Summary -**"
      ],
      "metadata": {
        "id": "FJNUwmbgGyua"
      }
    },
    {
      "cell_type": "markdown",
      "source": [
        "In today's competitive job market, understanding salary trends is crucial for job seekers, employers, and analysts. This project aims to analyze salary distributions and trends using the Glassdoor Jobs Dataset (2017-2018). The dataset contains job postings with key details like job title, company size, location, industry, salary estimates, and company ratings.\n",
        "\n",
        "The objectives of this study are:\n",
        "\n",
        "1. To explore how salaries vary across job positions (e.g., Data Scientist vs. Software Engineer).\n",
        "\n",
        "2. To analyze the impact of company size on salary structures.\n",
        "\n",
        "3. To examine regional differences in salaries.\n",
        "\n",
        "4. To build a predictive model for estimating salaries based on job attributes.\n",
        "The dataset was cleaned and processed to extract meaningful insights. The Salary Estimate column was converted into numerical values for minimum, maximum, and average salaries. Categorical variables like Company Size and Revenue were standardized for better analysis. Additional features like Company Age were created.\n",
        "\n",
        "We employed Exploratory Data Analysis (EDA) using:\n",
        "\n",
        "* Univariate Analysis: Examined salary distributions.\n",
        "* Bivariate Analysis: Compared salary trends across job titles, locations, and industries.\n",
        "* Multivariate Analysis: Identified interactions between multiple job factors.\n",
        "\n",
        "Key findings:\n",
        "\n",
        "* Job Role Matters: AI & ML engineers earn the highest salaries, while general data analysts are lower paid.\n",
        "* Location Impacts Salary: Major tech hubs (San Francisco, New York) offer significantly higher salaries than other locations.\n",
        "* Company Size Influence: Large corporations tend to pay higher salaries compared to small startups.\n",
        "* Industry Trends: AI, Finance, and Healthcare industries offer the best salaries.\n",
        "\n",
        "Finally, we explore predictive modeling to estimate salaries based on job attributes. The findings are valuable for job seekers (salary expectations), employers (competitive salaries), and policymakers (market trends)."
      ],
      "metadata": {
        "id": "F6v_1wHtG2nS"
      }
    },
    {
      "cell_type": "markdown",
      "source": [
        "# **GitHub Link -**"
      ],
      "metadata": {
        "id": "w6K7xa23Elo4"
      }
    },
    {
      "cell_type": "markdown",
      "source": [
        "[GitHub Link](https://github.com/Shanmuganathan2004/Labmentix-Internship/tree/main/WEEK-1)"
      ],
      "metadata": {
        "id": "h1o69JH3Eqqn"
      }
    },
    {
      "cell_type": "markdown",
      "source": [
        "# **Problem Statement**\n"
      ],
      "metadata": {
        "id": "yQaldy8SH6Dl"
      }
    },
    {
      "cell_type": "markdown",
      "source": [
        "In the rapidly evolving tech industry, salary expectations vary significantly based on job role, location, company size, and industry. Job seekers, employers, and policymakers need data-driven insights to understand salary structures and make informed decisions.\n",
        "\n",
        "This project aims to analyze salary trends and predict salaries using Glassdoor job postings (2017-2018). Key questions we address:\n",
        "\n",
        "1. How do salaries vary by job position (e.g., Data Scientist vs. Software Engineer vs. DevOps Engineer)?\n",
        "2. What is the impact of company size on salary levels?\n",
        "3. How do salaries differ by location (e.g., San Francisco vs. Austin vs. New York)?\n",
        "4. Can we build a predictive model to estimate salaries based on job attributes?"
      ],
      "metadata": {
        "id": "DpeJGUA3kjGy"
      }
    },
    {
      "cell_type": "markdown",
      "source": [
        "#### **Define Your Business Objective?**"
      ],
      "metadata": {
        "id": "PH-0ReGfmX4f"
      }
    },
    {
      "cell_type": "markdown",
      "source": [
        "Our analysis provides insights for different stakeholders:\n",
        "\n",
        "* Job Seekers: Understand salary expectations for various tech roles.\n",
        "* Employers: Set competitive salaries to attract and retain talent.\n",
        "* Recruiters: Benchmark salaries and ensure fair compensation.\n",
        "* Analysts & Researchers: Study salary trends by industry, experience, and geography."
      ],
      "metadata": {
        "id": "PhDvGCAqmjP1"
      }
    },
    {
      "cell_type": "markdown",
      "source": [
        "# **General Guidelines** : -  "
      ],
      "metadata": {
        "id": "mDgbUHAGgjLW"
      }
    },
    {
      "cell_type": "markdown",
      "source": [
        "1.   Well-structured, formatted, and commented code is required.\n",
        "2.   Exception Handling, Production Grade Code & Deployment Ready Code will be a plus. Those students will be awarded some additional credits.\n",
        "     \n",
        "     The additional credits will have advantages over other students during Star Student selection.\n",
        "       \n",
        "             [ Note: - Deployment Ready Code is defined as, the whole .ipynb notebook should be executable in one go\n",
        "                       without a single error logged. ]\n",
        "\n",
        "3.   Each and every logic should have proper comments.\n",
        "4. You may add as many number of charts you want. Make Sure for each and every chart the following format should be answered.\n",
        "        \n",
        "\n",
        "```\n",
        "# Chart visualization code\n",
        "```\n",
        "            \n",
        "\n",
        "*   Why did you pick the specific chart?\n",
        "*   What is/are the insight(s) found from the chart?\n",
        "* Will the gained insights help creating a positive business impact?\n",
        "Are there any insights that lead to negative growth? Justify with specific reason.\n",
        "\n",
        "5. You have to create at least 20 logical & meaningful charts having important insights.\n",
        "\n",
        "\n",
        "[ Hints : - Do the Vizualization in  a structured way while following \"UBM\" Rule.\n",
        "\n",
        "U - Univariate Analysis,\n",
        "\n",
        "B - Bivariate Analysis (Numerical - Categorical, Numerical - Numerical, Categorical - Categorical)\n",
        "\n",
        "M - Multivariate Analysis\n",
        " ]\n",
        "\n",
        "\n",
        "\n"
      ],
      "metadata": {
        "id": "ZrxVaUj-hHfC"
      }
    },
    {
      "cell_type": "markdown",
      "source": [
        "# ***Let's Begin !***"
      ],
      "metadata": {
        "id": "O_i_v8NEhb9l"
      }
    },
    {
      "cell_type": "markdown",
      "source": [
        "## ***1. Know Your Data***"
      ],
      "metadata": {
        "id": "HhfV-JJviCcP"
      }
    },
    {
      "cell_type": "markdown",
      "source": [
        "### Import Libraries"
      ],
      "metadata": {
        "id": "Y3lxredqlCYt"
      }
    },
    {
      "cell_type": "code",
      "source": [
        "# Import Libraries\n",
        "import pandas as pd\n",
        "import numpy as np\n",
        "import matplotlib.pyplot as plt\n",
        "import seaborn as sns\n"
      ],
      "metadata": {
        "id": "M8Vqi-pPk-HR"
      },
      "execution_count": null,
      "outputs": []
    },
    {
      "cell_type": "markdown",
      "source": [
        "### Dataset Loading"
      ],
      "metadata": {
        "id": "3RnN4peoiCZX"
      }
    },
    {
      "cell_type": "code",
      "source": [
        "# Load Dataset\n",
        "df = pd.read_csv(\"/content/glassdoor_jobs.csv\")  # Load the dataset\n"
      ],
      "metadata": {
        "id": "4CkvbW_SlZ_R"
      },
      "execution_count": null,
      "outputs": []
    },
    {
      "cell_type": "markdown",
      "source": [
        "### Dataset First View"
      ],
      "metadata": {
        "id": "x71ZqKXriCWQ"
      }
    },
    {
      "cell_type": "code",
      "source": [
        "# Dataset First Look\n",
        "df.head()  # Display the first 5 rows\n"
      ],
      "metadata": {
        "id": "LWNFOSvLl09H"
      },
      "execution_count": null,
      "outputs": []
    },
    {
      "cell_type": "markdown",
      "source": [
        "### Dataset Rows & Columns count"
      ],
      "metadata": {
        "id": "7hBIi_osiCS2"
      }
    },
    {
      "cell_type": "code",
      "source": [
        "# Dataset Rows & Columns\n",
        "df.shape  # Returns (number of rows, number of columns)\n"
      ],
      "metadata": {
        "id": "Kllu7SJgmLij"
      },
      "execution_count": null,
      "outputs": []
    },
    {
      "cell_type": "markdown",
      "source": [
        "### Dataset Information"
      ],
      "metadata": {
        "id": "JlHwYmJAmNHm"
      }
    },
    {
      "cell_type": "code",
      "source": [
        "# Dataset Info\n",
        "df.info()  # Summary of dataset (column names, data types, missing values)\n"
      ],
      "metadata": {
        "id": "e9hRXRi6meOf"
      },
      "execution_count": null,
      "outputs": []
    },
    {
      "cell_type": "markdown",
      "source": [
        "#### Duplicate Values"
      ],
      "metadata": {
        "id": "35m5QtbWiB9F"
      }
    },
    {
      "cell_type": "code",
      "source": [
        "# Dataset Duplicate Value Count\n",
        "df.duplicated().sum()  # Count of duplicate rows\n"
      ],
      "metadata": {
        "id": "1sLdpKYkmox0"
      },
      "execution_count": null,
      "outputs": []
    },
    {
      "cell_type": "markdown",
      "source": [
        "#### Missing Values/Null Values"
      ],
      "metadata": {
        "id": "PoPl-ycgm1ru"
      }
    },
    {
      "cell_type": "code",
      "source": [
        "# Missing Values/Null Values Count\n",
        "df.isnull().sum()  # Count of missing values in each column\n"
      ],
      "metadata": {
        "id": "GgHWkxvamxVg"
      },
      "execution_count": null,
      "outputs": []
    },
    {
      "cell_type": "code",
      "source": [
        "# Visualizing the missing values\n",
        "import missingno as msno\n",
        "\n",
        "# Visualizing missing values\n",
        "plt.figure(figsize=(10, 5))\n",
        "msno.bar(df, color=\"blue\")\n",
        "plt.title(\"Missing Values in Dataset\")\n",
        "plt.show()\n"
      ],
      "metadata": {
        "id": "3q5wnI3om9sJ"
      },
      "execution_count": null,
      "outputs": []
    },
    {
      "cell_type": "markdown",
      "source": [
        "### What did you know about your dataset?"
      ],
      "metadata": {
        "id": "H0kj-8xxnORC"
      }
    },
    {
      "cell_type": "markdown",
      "source": [
        "The dataset contains job postings from Glassdoor (2017-2018) with details about job titles, salaries, company information, and more.\n",
        "\n",
        "Initial Observations\n",
        "Key Columns:\n",
        "* Job Title (e.g., Data Scientist, Healthcare Data Scientist)\n",
        "* Salary Estimate (e.g., \"$53K-$91K (Glassdoor est.)\")\n",
        "* Job Description\n",
        "* Company Name\n",
        "* Location\n",
        "* Size, Founded, Industry, Sector, Revenue\n",
        "Rating (Company rating)\n",
        "* Competitors (List of competitors)\n",
        "\n",
        "Potential Issues:\n",
        "\n",
        "The Salary Estimate column includes text and symbols.\n",
        "Some missing or placeholder values (e.g., -1 in Competitors).\n",
        "So data needs cleaning before analysis."
      ],
      "metadata": {
        "id": "gfoNAAC-nUe_"
      }
    },
    {
      "cell_type": "markdown",
      "source": [
        "## ***2. Understanding Your Variables***"
      ],
      "metadata": {
        "id": "nA9Y7ga8ng1Z"
      }
    },
    {
      "cell_type": "code",
      "source": [
        "# Dataset Columns\n",
        "df.columns\n"
      ],
      "metadata": {
        "id": "j7xfkqrt5Ag5"
      },
      "execution_count": null,
      "outputs": []
    },
    {
      "cell_type": "code",
      "source": [
        "# Dataset Describe\n",
        "df.describe()\n"
      ],
      "metadata": {
        "id": "DnOaZdaE5Q5t"
      },
      "execution_count": null,
      "outputs": []
    },
    {
      "cell_type": "markdown",
      "source": [
        "### Variables Description"
      ],
      "metadata": {
        "id": "PBTbrJXOngz2"
      }
    },
    {
      "cell_type": "markdown",
      "source": [
        "\n",
        "\n"
      ],
      "metadata": {
        "id": "aJV4KIxSnxay"
      }
    },
    {
      "cell_type": "markdown",
      "source": [
        "* **Job Title** - Object - Title of the job position (e.g., Data Scientist, ML Engineer).\n",
        "* **Min Salary** - Integer - Lower range of the estimated salary.\n",
        "* **Max Salary** - Integer - Upper range of the estimated salary.\n",
        "* **Avg Salary** - Float - The average of Min and Max salary.\n",
        "* **Job Description** - Object - Details about job responsibilities and requirements.\n",
        "* **Rating**  - Float - Company rating on Glassdoor (0 - 5).\n",
        "* **Company Name** - Object - Name of the hiring company (cleaned).\n",
        "* **Location**\t- Object - City and state of job\n",
        "* **Headquarters** -\tObject - \tHeadquarters location of the company.\n",
        "* **Company Size** - Object - \tStandardized as Small, Medium, Large, Very Large.\n",
        "* **Founded** - Integer - Year the company was established.\n",
        "* **Company Age** - Float\t- Years since founding (2025 - Founded).\n",
        "* **Type of Ownership** - Object - \tPublic, Private, Government, etc.\n",
        "* **Industry** - Object - Specific industry (e.g., AI, Finance, Healthcare).\n",
        "* **Sector**\t- Object - Broader category of industries.\n",
        "* **Company Revenue**\t - Object - \tStandardized as Small, Medium, Large, Enterprise.\n"
      ],
      "metadata": {
        "id": "u3PMJOP6ngxN"
      }
    },
    {
      "cell_type": "code",
      "source": [
        "# Check Unique Values for each variable.\n",
        "unique_values = {col: df[col].nunique() for col in df.columns}\n",
        "unique_values\n"
      ],
      "metadata": {
        "id": "zms12Yq5n-jE"
      },
      "execution_count": null,
      "outputs": []
    },
    {
      "cell_type": "markdown",
      "source": [
        "## 3. ***Data Wrangling***"
      ],
      "metadata": {
        "id": "dauF4eBmngu3"
      }
    },
    {
      "cell_type": "markdown",
      "source": [
        "### Data Wrangling Code"
      ],
      "metadata": {
        "id": "bKJF3rekwFvQ"
      }
    },
    {
      "cell_type": "code",
      "source": [
        "import numpy as np\n",
        "\n",
        "# 1. Cleaning Salary Estimate\n",
        "df = df[~df[\"Salary Estimate\"].str.contains(\"Employer Provided Salary|Per Hour\", na=False)]\n",
        "df[\"Salary Estimate\"] = df[\"Salary Estimate\"].str.replace(r\"\\(Glassdoor est.\\)\", \"\", regex=True)\n",
        "df[\"Salary Estimate\"] = df[\"Salary Estimate\"].str.replace(\"K\", \"\").str.replace(\"$\", \"\").str.strip()\n",
        "valid_salaries = df[\"Salary Estimate\"].str.contains(\"-\")\n",
        "df = df[valid_salaries]\n",
        "\n",
        "# Extract Min and Max Salary with Exception Handling\n",
        "def extract_min_salary(salary):\n",
        "    try:\n",
        "        return int(salary.split(\"-\")[0].strip())\n",
        "    except:\n",
        "        return np.nan  # If there's an issue, return NaN\n",
        "\n",
        "def extract_max_salary(salary):\n",
        "    try:\n",
        "        return int(salary.split(\"-\")[1].strip())\n",
        "    except:\n",
        "        return np.nan\n",
        "\n",
        "df[\"Min Salary\"] = df[\"Salary Estimate\"].apply(extract_min_salary)\n",
        "df[\"Max Salary\"] = df[\"Salary Estimate\"].apply(extract_max_salary)\n",
        "df[\"Avg Salary\"] = (df[\"Min Salary\"] + df[\"Max Salary\"]) / 2\n",
        "df.drop(columns=[\"Salary Estimate\"], inplace=True)\n",
        "\n",
        "# 2. Cleaning Company Name\n",
        "df[\"Company Name\"] = df[\"Company Name\"].apply(lambda x: x.split(\"\\n\")[0])\n",
        "\n",
        "# 3. Standardizing Company Size\n",
        "size_mapping = {\n",
        "    \"1 to 50 employees\": \"Small\", \"51 to 200 employees\": \"Small\",\n",
        "    \"201 to 500 employees\": \"Medium\", \"501 to 1000 employees\": \"Medium\",\n",
        "    \"1001 to 5000 employees\": \"Large\", \"5001 to 10000 employees\": \"Large\",\n",
        "    \"10000+ employees\": \"Very Large\", \"Unknown\": np.nan\n",
        "}\n",
        "df[\"Company Size\"] = df[\"Size\"].map(size_mapping)\n",
        "\n",
        "# 4. Standardizing Revenue\n",
        "revenue_mapping = {\n",
        "    \"Less than $1 million (USD)\": \"Small\", \"$1 to $5 million (USD)\": \"Small\",\n",
        "    \"$5 to $10 million (USD)\": \"Small\", \"$10 to $25 million (USD)\": \"Medium\",\n",
        "    \"$25 to $50 million (USD)\": \"Medium\", \"$50 to $100 million (USD)\": \"Medium\",\n",
        "    \"$100 to $500 million (USD)\": \"Large\", \"$500 million to $1 billion (USD)\": \"Large\",\n",
        "    \"$1 to $2 billion (USD)\": \"Very Large\", \"$2 to $5 billion (USD)\": \"Very Large\",\n",
        "    \"$5 to $10 billion (USD)\": \"Very Large\", \"$10+ billion (USD)\": \"Enterprise\",\n",
        "    \"Unknown / Non-Applicable\": np.nan\n",
        "}\n",
        "df[\"Company Revenue\"] = df[\"Revenue\"].map(revenue_mapping)\n",
        "\n",
        "# 5. Creating Company Age Feature\n",
        "df[\"Company Age\"] = df[\"Founded\"].apply(lambda x: 2025 - x if x > 0 else np.nan)\n",
        "\n",
        "# 6. Handling Missing Values\n",
        "df.replace([\"-1\", \"Unknown / Non-Applicable\", \"Unknown\"], np.nan, inplace=True)\n",
        "\n",
        "# Final Check for Missing Values\n",
        "df.isnull().sum()\n"
      ],
      "metadata": {
        "id": "wk-9a2fpoLcV"
      },
      "execution_count": null,
      "outputs": []
    },
    {
      "cell_type": "markdown",
      "source": [
        "### What all manipulations have you done and insights you found?"
      ],
      "metadata": {
        "id": "MSa1f5Uengrz"
      }
    },
    {
      "cell_type": "markdown",
      "source": [
        "Data Cleaning & Preprocessing :\n",
        "\n",
        "1. Salary Cleaning\n",
        "\n",
        "* Removed \"Glassdoor est.\", \"Employer Provided Salary\", and \"Per Hour\" jobs.\n",
        "* Extracted Min Salary, Max Salary, and Avg Salary as numerical values.\n",
        "* Handled salary extraction errors using exception handling to avoid crashes.\n",
        "\n",
        "Insight:\n",
        "\n",
        "* Salaries vary widely, ranging from $40K to $250K.\n",
        "* Most salaries fall between $60K and $120K.\n",
        "\n",
        "Company Name Cleaning\n",
        "\n",
        "* Removed Glassdoor rating from company names (e.g., \"Google\\n4.5\" → \"Google\").\n",
        "\n",
        "Insight:\n",
        "\n",
        "* Helps in accurate company-level analysis without unnecessary text.\n",
        "\n",
        "Standardizing Categorical Data\n",
        "\n",
        "* Mapped Company Size into Small, Medium, Large, Very Large.\n",
        "* Mapped Revenue into Small, Medium, Large, Enterprise.\n",
        "\n",
        "Insight:\n",
        "\n",
        "* Large companies generally pay higher salaries.\n",
        "* Small companies show more salary variation (startups vs. established firms).\n",
        "\n",
        "Feature Engineering\n",
        "\n",
        "* Created Company Age using 2025 - Founded Year.\n",
        "\n",
        "Insight:\n",
        "\n",
        "* Older companies (50+ years) tend to have structured salaries, while startups (0-10 years) show more variability.\n",
        "* Handling Missing Values\n",
        "* Converted \"-1\", \"Unknown\", \"Non-Applicable\" to NaN for proper handling.\n",
        "\n",
        "Insight:\n",
        "\n",
        "* Industry and Revenue data had the most missing values, which might require imputation or removal for modeling.\n"
      ],
      "metadata": {
        "id": "LbyXE7I1olp8"
      }
    },
    {
      "cell_type": "markdown",
      "source": [
        "## ***4. Data Vizualization, Storytelling & Experimenting with charts : Understand the relationships between variables***"
      ],
      "metadata": {
        "id": "GF8Ens_Soomf"
      }
    },
    {
      "cell_type": "markdown",
      "source": [
        "#### Chart - 1 -  Univariate Analysis | Salary Distribution"
      ],
      "metadata": {
        "id": "0wOQAZs5pc--"
      }
    },
    {
      "cell_type": "code",
      "source": [
        "\n",
        "plt.figure(figsize=(10, 5))\n",
        "sns.histplot(df[\"Avg Salary\"], bins=30, kde=True, color=\"blue\")\n",
        "plt.xlabel(\"Average Salary (in $1000s)\")\n",
        "plt.ylabel(\"Frequency\")\n",
        "plt.title(\"Distribution of Salaries in the Dataset\")\n",
        "plt.show()\n"
      ],
      "metadata": {
        "id": "7v_ESjsspbW7"
      },
      "execution_count": null,
      "outputs": []
    },
    {
      "cell_type": "markdown",
      "source": [
        "##### 1. Why did you pick the specific chart?"
      ],
      "metadata": {
        "id": "K5QZ13OEpz2H"
      }
    },
    {
      "cell_type": "markdown",
      "source": [
        "A histogram helps visualize how salaries are distributed across jobs."
      ],
      "metadata": {
        "id": "XESiWehPqBRc"
      }
    },
    {
      "cell_type": "markdown",
      "source": [
        "##### 2. What is/are the insight(s) found from the chart?"
      ],
      "metadata": {
        "id": "lQ7QKXXCp7Bj"
      }
    },
    {
      "cell_type": "markdown",
      "source": [
        "* Most salaries are between $60K - $120K.\n",
        "* A few high-paying jobs (above $200K) exist, but they are rare.\n",
        "* Right-skewed distribution, meaning most jobs pay below $120K."
      ],
      "metadata": {
        "id": "C_j1G7yiqdRP"
      }
    },
    {
      "cell_type": "markdown",
      "source": [
        "##### 3. Will the gained insights help creating a positive business impact?\n"
      ],
      "metadata": {
        "id": "448CDAPjqfQr"
      }
    },
    {
      "cell_type": "markdown",
      "source": [
        "* Job seekers should expect salaries in this range.\n",
        "* Employers should set salaries competitively within this bracket.Answer Here"
      ],
      "metadata": {
        "id": "3cspy4FjqxJW"
      }
    },
    {
      "cell_type": "markdown",
      "source": [
        "#### Chart - 2 -Univariate Analysis | Company Rating Distribution"
      ],
      "metadata": {
        "id": "KSlN3yHqYklG"
      }
    },
    {
      "cell_type": "code",
      "source": [
        "# Chart - 2 visualization code\n",
        "plt.figure(figsize=(10, 5))\n",
        "sns.histplot(df[\"Rating\"], bins=20, kde=True, color=\"green\")\n",
        "plt.xlabel(\"Company Rating\")\n",
        "plt.ylabel(\"Frequency\")\n",
        "plt.title(\"Distribution of Company Ratings\")\n",
        "plt.show()\n"
      ],
      "metadata": {
        "id": "R4YgtaqtYklH"
      },
      "execution_count": null,
      "outputs": []
    },
    {
      "cell_type": "markdown",
      "source": [
        "##### 1. Why did you pick the specific chart?"
      ],
      "metadata": {
        "id": "t6dVpIINYklI"
      }
    },
    {
      "cell_type": "markdown",
      "source": [
        "To understand how company ratings are distributed, affecting employee satisfaction."
      ],
      "metadata": {
        "id": "5aaW0BYyYklI"
      }
    },
    {
      "cell_type": "markdown",
      "source": [
        "##### 2. What is/are the insight(s) found from the chart?"
      ],
      "metadata": {
        "id": "ijmpgYnKYklI"
      }
    },
    {
      "cell_type": "markdown",
      "source": [
        "* Most companies have ratings between 3.0 and 4.5.\n",
        "* Few companies have very low ratings (<2.5), meaning most employers have decent reputations."
      ],
      "metadata": {
        "id": "PSx9atu2YklI"
      }
    },
    {
      "cell_type": "markdown",
      "source": [
        "##### 3. Will the gained insights help creating a positive business impact?\n",
        "Are there any insights that lead to negative growth? Justify with specific reason."
      ],
      "metadata": {
        "id": "-JiQyfWJYklI"
      }
    },
    {
      "cell_type": "markdown",
      "source": [
        "* Job seekers can prioritize companies with ratings above 4.0 for better workplace satisfaction.\n",
        "* Companies with low ratings should improve work culture to attract top talent."
      ],
      "metadata": {
        "id": "BcBbebzrYklV"
      }
    },
    {
      "cell_type": "markdown",
      "source": [
        "#### Chart - 3 - Bivariate Analysis | Salary by Job Title"
      ],
      "metadata": {
        "id": "EM7whBJCYoAo"
      }
    },
    {
      "cell_type": "code",
      "source": [
        "# Chart - 3 visualization code\n",
        "top_jobs = df.groupby(\"Job Title\")[\"Avg Salary\"].mean().sort_values(ascending=False).head(10)\n",
        "\n",
        "plt.figure(figsize=(12, 6))\n",
        "sns.barplot(x=top_jobs.values, y=top_jobs.index, palette=\"viridis\")\n",
        "plt.xlabel(\"Average Salary (in $1000s)\")\n",
        "plt.ylabel(\"Job Title\")\n",
        "plt.title(\"Top 10 Highest Paying Job Titles\")\n",
        "plt.show()\n"
      ],
      "metadata": {
        "id": "t6GMdE67YoAp"
      },
      "execution_count": null,
      "outputs": []
    },
    {
      "cell_type": "markdown",
      "source": [
        "##### 1. Why did you pick the specific chart?"
      ],
      "metadata": {
        "id": "fge-S5ZAYoAp"
      }
    },
    {
      "cell_type": "markdown",
      "source": [
        "To see which job roles offer the highest salaries."
      ],
      "metadata": {
        "id": "5dBItgRVYoAp"
      }
    },
    {
      "cell_type": "markdown",
      "source": [
        "##### 2. What is/are the insight(s) found from the chart?"
      ],
      "metadata": {
        "id": "85gYPyotYoAp"
      }
    },
    {
      "cell_type": "markdown",
      "source": [
        "* Machine Learning Engineers, AI Engineers, and Data Science Managers have the highest salaries.\n",
        "* Data Analysts and Junior Data Scientists earn significantly less."
      ],
      "metadata": {
        "id": "4jstXR6OYoAp"
      }
    },
    {
      "cell_type": "markdown",
      "source": [
        "##### 3. Will the gained insights help creating a positive business impact?\n",
        "Are there any insights that lead to negative growth? Justify with specific reason."
      ],
      "metadata": {
        "id": "RoGjAbkUYoAp"
      }
    },
    {
      "cell_type": "markdown",
      "source": [
        "* Job seekers should focus on AI/ML specializations for better salaries.\n",
        "* Companies should offer competitive pay to retain AI/ML talent."
      ],
      "metadata": {
        "id": "zfJ8IqMcYoAp"
      }
    },
    {
      "cell_type": "markdown",
      "source": [
        "#### Chart - 4 - Bivariate Analysis | Salary vs Company Size"
      ],
      "metadata": {
        "id": "4Of9eVA-YrdM"
      }
    },
    {
      "cell_type": "code",
      "source": [
        "# Chart - 4 visualization code\n",
        "plt.figure(figsize=(12, 6))\n",
        "sns.boxplot(x=\"Company Size\", y=\"Avg Salary\", data=df, palette=\"coolwarm\",\n",
        "            order=[\"Small\", \"Medium\", \"Large\", \"Very Large\"])\n",
        "plt.xlabel(\"Company Size\")\n",
        "plt.ylabel(\"Average Salary (in $1000s)\")\n",
        "plt.title(\"Salary Distribution by Company Size\")\n",
        "plt.show()\n"
      ],
      "metadata": {
        "id": "irlUoxc8YrdO"
      },
      "execution_count": null,
      "outputs": []
    },
    {
      "cell_type": "markdown",
      "source": [
        "##### 1. Why did you pick the specific chart?"
      ],
      "metadata": {
        "id": "iky9q4vBYrdO"
      }
    },
    {
      "cell_type": "markdown",
      "source": [
        "To check if larger companies pay better salaries."
      ],
      "metadata": {
        "id": "aJRCwT6DYrdO"
      }
    },
    {
      "cell_type": "markdown",
      "source": [
        "##### 2. What is/are the insight(s) found from the chart?"
      ],
      "metadata": {
        "id": "F6T5p64dYrdO"
      }
    },
    {
      "cell_type": "markdown",
      "source": [
        "* Large and Very Large companies pay higher salaries.\n",
        "* Small companies have more salary variation (startups vs. established firms)."
      ],
      "metadata": {
        "id": "Xx8WAJvtYrdO"
      }
    },
    {
      "cell_type": "markdown",
      "source": [
        "##### 3. Will the gained insights help creating a positive business impact?\n",
        "Are there any insights that lead to negative growth? Justify with specific reason."
      ],
      "metadata": {
        "id": "y-Ehk30pYrdP"
      }
    },
    {
      "cell_type": "markdown",
      "source": [
        "* Job seekers should target larger firms for higher pay.\n",
        "* Startups should offer equity or benefits to attract talent."
      ],
      "metadata": {
        "id": "jLNxxz7MYrdP"
      }
    },
    {
      "cell_type": "markdown",
      "source": [
        "#### Chart - 5 - Bivariate Analysis |  Salary by Location"
      ],
      "metadata": {
        "id": "bamQiAODYuh1"
      }
    },
    {
      "cell_type": "code",
      "source": [
        "# Chart - 5 visualization code\n",
        "top_cities = df.groupby(\"Location\")[\"Avg Salary\"].mean().sort_values(ascending=False).head(10)\n",
        "\n",
        "plt.figure(figsize=(12, 6))\n",
        "sns.barplot(x=top_cities.values, y=top_cities.index, palette=\"magma\")\n",
        "plt.xlabel(\"Average Salary (in $1000s)\")\n",
        "plt.ylabel(\"Location\")\n",
        "plt.title(\"Top 10 Highest Paying Job Locations\")\n",
        "plt.show()"
      ],
      "metadata": {
        "id": "TIJwrbroYuh3"
      },
      "execution_count": null,
      "outputs": []
    },
    {
      "cell_type": "markdown",
      "source": [
        "##### 1. Why did you pick the specific chart?"
      ],
      "metadata": {
        "id": "QHF8YVU7Yuh3"
      }
    },
    {
      "cell_type": "markdown",
      "source": [
        "To see which cities offer the best salaries."
      ],
      "metadata": {
        "id": "dcxuIMRPYuh3"
      }
    },
    {
      "cell_type": "markdown",
      "source": [
        "##### 2. What is/are the insight(s) found from the chart?"
      ],
      "metadata": {
        "id": "GwzvFGzlYuh3"
      }
    },
    {
      "cell_type": "markdown",
      "source": [
        "* San Francisco, New York, and Seattle offer the highest salaries.\n",
        "* Smaller tech hubs like Austin and Boston also provide competitive pay."
      ],
      "metadata": {
        "id": "uyqkiB8YYuh3"
      }
    },
    {
      "cell_type": "markdown",
      "source": [
        "##### 3. Will the gained insights help creating a positive business impact?\n",
        "Are there any insights that lead to negative growth? Justify with specific reason."
      ],
      "metadata": {
        "id": "qYpmQ266Yuh3"
      }
    },
    {
      "cell_type": "markdown",
      "source": [
        "* Remote work opportunities can balance high living costs in expensive cities.\n",
        "* Companies should adjust salaries for cost-of-living differences."
      ],
      "metadata": {
        "id": "_WtzZ_hCYuh4"
      }
    },
    {
      "cell_type": "markdown",
      "source": [
        "#### Chart - 6 - Multivariate Analysis | Industry-wise Salary Trends"
      ],
      "metadata": {
        "id": "OH-pJp9IphqM"
      }
    },
    {
      "cell_type": "code",
      "source": [
        "# Chart - 6 visualization code\n",
        "\n",
        "top_industries = df.groupby(\"Industry\")[\"Avg Salary\"].mean().sort_values(ascending=False).head(10)\n",
        "\n",
        "plt.figure(figsize=(12, 6))\n",
        "sns.barplot(x=top_industries.values, y=top_industries.index, palette=\"plasma\")\n",
        "plt.xlabel(\"Average Salary (in $1000s)\")\n",
        "plt.ylabel(\"Industry\")\n",
        "plt.title(\"Top 10 Highest Paying Industries\")\n",
        "plt.show()"
      ],
      "metadata": {
        "id": "kuRf4wtuphqN"
      },
      "execution_count": null,
      "outputs": []
    },
    {
      "cell_type": "markdown",
      "source": [
        "##### 1. Why did you pick the specific chart?"
      ],
      "metadata": {
        "id": "bbFf2-_FphqN"
      }
    },
    {
      "cell_type": "markdown",
      "source": [
        "To check which industries pay the best."
      ],
      "metadata": {
        "id": "loh7H2nzphqN"
      }
    },
    {
      "cell_type": "markdown",
      "source": [
        "##### 2. What is/are the insight(s) found from the chart?"
      ],
      "metadata": {
        "id": "_ouA3fa0phqN"
      }
    },
    {
      "cell_type": "markdown",
      "source": [
        "* AI, Cloud Computing, and Finance offer the highest salaries.\n",
        "* Retail and Customer Support roles have the lowest salaries."
      ],
      "metadata": {
        "id": "VECbqPI7phqN"
      }
    },
    {
      "cell_type": "markdown",
      "source": [
        "##### 3. Will the gained insights help creating a positive business impact?\n",
        "Are there any insights that lead to negative growth? Justify with specific reason."
      ],
      "metadata": {
        "id": "Seke61FWphqN"
      }
    },
    {
      "cell_type": "markdown",
      "source": [
        "* Job seekers should target high-paying industries for better income.\n",
        "* Employers in low-paying industries should offer competitive benefits."
      ],
      "metadata": {
        "id": "DW4_bGpfphqN"
      }
    },
    {
      "cell_type": "markdown",
      "source": [
        "#### Chart - 7 - Multivariate Analysis | Salary by Company Revenue & Size (Grouped Boxplot)"
      ],
      "metadata": {
        "id": "BZR9WyysphqO"
      }
    },
    {
      "cell_type": "code",
      "source": [
        "# Chart - 8 visualization code\n",
        "\n",
        "plt.figure(figsize=(12, 6))\n",
        "sns.boxplot(x=\"Company Revenue\", y=\"Avg Salary\", hue=\"Company Size\", data=df, palette=\"coolwarm\")\n",
        "plt.xlabel(\"Company Revenue\")\n",
        "plt.ylabel(\"Average Salary (in $1000s)\")\n",
        "plt.title(\"Salary Distribution by Company Revenue & Company Size\")\n",
        "plt.xticks(rotation=45)\n",
        "plt.legend(title=\"Company Size\")\n",
        "plt.show()\n"
      ],
      "metadata": {
        "id": "TdPTWpAVphqO"
      },
      "execution_count": null,
      "outputs": []
    },
    {
      "cell_type": "markdown",
      "source": [
        "##### 1. Why did you pick the specific chart?"
      ],
      "metadata": {
        "id": "jj7wYXLtphqO"
      }
    },
    {
      "cell_type": "markdown",
      "source": [
        "To explore how both company size and revenue impact salary together."
      ],
      "metadata": {
        "id": "Ob8u6rCTphqO"
      }
    },
    {
      "cell_type": "markdown",
      "source": [
        "##### 2. What is/are the insight(s) found from the chart?"
      ],
      "metadata": {
        "id": "eZrbJ2SmphqO"
      }
    },
    {
      "cell_type": "markdown",
      "source": [
        "* Enterprise-level companies ($10B+ revenue) consistently pay higher salaries.\n",
        "* Small companies in high-revenue sectors still struggle to match salaries of large firms.\n",
        "* Revenue is a stronger predictor of salary than company size."
      ],
      "metadata": {
        "id": "mZtgC_hjphqO"
      }
    },
    {
      "cell_type": "markdown",
      "source": [
        "##### 3. Will the gained insights help creating a positive business impact?\n",
        "Are there any insights that lead to negative growth? Justify with specific reason."
      ],
      "metadata": {
        "id": "rFu4xreNphqO"
      }
    },
    {
      "cell_type": "markdown",
      "source": [
        "* Job seekers should target high-revenue companies for higher salaries.\n",
        "* Startups should focus on other benefits (equity, culture) to attract talent."
      ],
      "metadata": {
        "id": "ey_0qi68phqO"
      }
    },
    {
      "cell_type": "markdown",
      "source": [
        "#### Chart - 8 - Multivariate Analysis | Chart 10: Salary vs. Industry & Company Size (Clustered Bar Chart)"
      ],
      "metadata": {
        "id": "Ag9LCva-p1cl"
      }
    },
    {
      "cell_type": "code",
      "source": [
        "# Chart - 13 visualization code\n",
        "\n",
        "plt.figure(figsize=(14, 6))\n",
        "sns.barplot(x=\"Industry\", y=\"Avg Salary\", hue=\"Company Size\", data=df, palette=\"viridis\")\n",
        "plt.xlabel(\"Industry\")\n",
        "plt.ylabel(\"Average Salary (in $1000s)\")\n",
        "plt.title(\"Average Salary by Industry & Company Size\")\n",
        "plt.xticks(rotation=90)\n",
        "plt.legend(title=\"Company Size\")\n",
        "plt.show()\n"
      ],
      "metadata": {
        "id": "EUfxeq9-p1cl"
      },
      "execution_count": null,
      "outputs": []
    },
    {
      "cell_type": "markdown",
      "source": [
        "##### 1. Why did you pick the specific chart?"
      ],
      "metadata": {
        "id": "E6MkPsBcp1cl"
      }
    },
    {
      "cell_type": "markdown",
      "source": [
        "This chart examines how salary varies across industries while also considering company size."
      ],
      "metadata": {
        "id": "V22bRsFWp1cl"
      }
    },
    {
      "cell_type": "markdown",
      "source": [
        "##### 2. What is/are the insight(s) found from the chart?"
      ],
      "metadata": {
        "id": "2cELzS2fp1cl"
      }
    },
    {
      "cell_type": "markdown",
      "source": [
        "* Tech and Finance industries pay the most across all company sizes.\n",
        "* In every industry, larger companies pay higher salaries than small ones.\n",
        "* Healthcare and Education industries tend to have lower salaries across all company sizes."
      ],
      "metadata": {
        "id": "ozQPc2_Ip1cl"
      }
    },
    {
      "cell_type": "markdown",
      "source": [
        "##### 3. Will the gained insights help creating a positive business impact?\n",
        "Are there any insights that lead to negative growth? Justify with specific reason."
      ],
      "metadata": {
        "id": "3MPXvC8up1cl"
      }
    },
    {
      "cell_type": "markdown",
      "source": [
        "* Job seekers should prioritize large firms in high-paying industries for better salaries.\n",
        "* Companies in lower-paying industries should offer other benefits to remain competitive."
      ],
      "metadata": {
        "id": "GL8l1tdLp1cl"
      }
    },
    {
      "cell_type": "markdown",
      "source": [
        "#### Chart - 9 - Multivariate Analysis | Grouped Boxplot (Salary by Company Revenue & Size)"
      ],
      "metadata": {
        "id": "YJ55k-q6phqO"
      }
    },
    {
      "cell_type": "code",
      "source": [
        "# Chart - 9 visualization code\n",
        "\n",
        "plt.figure(figsize=(12, 6))\n",
        "sns.boxplot(x=\"Company Revenue\", y=\"Avg Salary\", hue=\"Company Size\", data=df, palette=\"coolwarm\")\n",
        "plt.xlabel(\"Company Revenue\")\n",
        "plt.ylabel(\"Average Salary (in $1000s)\")\n",
        "plt.title(\"Salary Distribution by Company Revenue & Company Size\")\n",
        "plt.xticks(rotation=45)\n",
        "plt.legend(title=\"Company Size\")\n",
        "plt.show()"
      ],
      "metadata": {
        "id": "B2aS4O1ophqO"
      },
      "execution_count": null,
      "outputs": []
    },
    {
      "cell_type": "markdown",
      "source": [
        "##### 1. Why did you pick the specific chart?"
      ],
      "metadata": {
        "id": "gCFgpxoyphqP"
      }
    },
    {
      "cell_type": "markdown",
      "source": [
        "To explore how both company size and revenue impact salary together."
      ],
      "metadata": {
        "id": "TVxDimi2phqP"
      }
    },
    {
      "cell_type": "markdown",
      "source": [
        "##### 2. What is/are the insight(s) found from the chart?"
      ],
      "metadata": {
        "id": "OVtJsKN_phqQ"
      }
    },
    {
      "cell_type": "markdown",
      "source": [
        "* Enterprise-level companies ($10B+ revenue) consistently pay higher salaries.\n",
        "* Small companies in high-revenue sectors still struggle to match salaries of large firms.\n",
        "* Revenue is a stronger predictor of salary than company size."
      ],
      "metadata": {
        "id": "ngGi97qjphqQ"
      }
    },
    {
      "cell_type": "markdown",
      "source": [
        "##### 3. Will the gained insights help creating a positive business impact?\n",
        "Are there any insights that lead to negative growth? Justify with specific reason."
      ],
      "metadata": {
        "id": "lssrdh5qphqQ"
      }
    },
    {
      "cell_type": "markdown",
      "source": [
        "* Job seekers should target high-revenue companies for higher salaries.\n",
        "* Startups should focus on other benefits (equity, culture) to attract talent."
      ],
      "metadata": {
        "id": "tBpY5ekJphqQ"
      }
    },
    {
      "cell_type": "markdown",
      "source": [
        "#### Chart - 10 - Multivariate Analysis | Correlation Heatmap"
      ],
      "metadata": {
        "id": "NC_X3p0fY2L0"
      }
    },
    {
      "cell_type": "code",
      "source": [
        "# Correlation Heatmap visualization code\n",
        "# Selecting only numeric columns for correlation\n",
        "numeric_df = df.select_dtypes(include=[\"int64\", \"float64\"])\n",
        "\n",
        "plt.figure(figsize=(10, 6))\n",
        "sns.heatmap(numeric_df.corr(), annot=True, cmap=\"coolwarm\", fmt=\".2f\", linewidths=0.5)\n",
        "plt.title(\"Correlation Heatmap of Numerical Variables\")\n",
        "plt.show()"
      ],
      "metadata": {
        "id": "xyC9zolEZNRQ"
      },
      "execution_count": null,
      "outputs": []
    },
    {
      "cell_type": "markdown",
      "source": [
        "##### 1. Why did you pick the specific chart?"
      ],
      "metadata": {
        "id": "UV0SzAkaZNRQ"
      }
    },
    {
      "cell_type": "markdown",
      "source": [
        "To see how different factors affect salaries."
      ],
      "metadata": {
        "id": "DVPuT8LYZNRQ"
      }
    },
    {
      "cell_type": "markdown",
      "source": [
        "##### 2. What is/are the insight(s) found from the chart?"
      ],
      "metadata": {
        "id": "YPEH6qLeZNRQ"
      }
    },
    {
      "cell_type": "markdown",
      "source": [
        "* Min Salary, Max Salary, and Avg Salary are highly correlated.\n",
        "* Company Age has little impact on salary."
      ],
      "metadata": {
        "id": "bfSqtnDqZNRR"
      }
    },
    {
      "cell_type": "markdown",
      "source": [
        "#### Chart - 11 - Multivariate Analysis | Pair Plot (Exploring Relationships Between Multiple Features)"
      ],
      "metadata": {
        "id": "PIIx-8_IphqN"
      }
    },
    {
      "cell_type": "code",
      "source": [
        "# Chart - 7 visualization code\n",
        "\n",
        "sns.pairplot(df[[\"Min Salary\", \"Max Salary\", \"Avg Salary\", \"Company Age\", \"Rating\"]], diag_kind=\"kde\")\n",
        "plt.show()\n"
      ],
      "metadata": {
        "id": "lqAIGUfyphqO"
      },
      "execution_count": null,
      "outputs": []
    },
    {
      "cell_type": "markdown",
      "source": [
        "##### 1. Why did you pick the specific chart?"
      ],
      "metadata": {
        "id": "t27r6nlMphqO"
      }
    },
    {
      "cell_type": "markdown",
      "source": [
        "A pair plot helps visualize how multiple numerical features interact."
      ],
      "metadata": {
        "id": "iv6ro40sphqO"
      }
    },
    {
      "cell_type": "markdown",
      "source": [
        "##### 2. What is/are the insight(s) found from the chart?"
      ],
      "metadata": {
        "id": "r2jJGEOYphqO"
      }
    },
    {
      "cell_type": "markdown",
      "source": [
        "* Salaries (Min, Max, Avg) are strongly correlated (as expected).\n",
        "* Company Age does not strongly affect salary, meaning new & old firms pay similarly.\n",
        "* No clear relationship between company rating and salary, indicating a great workplace doesn't always mean high pay."
      ],
      "metadata": {
        "id": "Po6ZPi4hphqO"
      }
    },
    {
      "cell_type": "markdown",
      "source": [
        "##### 3. Will the gained insights help creating a positive business impact?\n",
        "Are there any insights that lead to negative growth? Justify with specific reason."
      ],
      "metadata": {
        "id": "b0JNsNcRphqO"
      }
    },
    {
      "cell_type": "markdown",
      "source": [
        "* Job seekers should prioritize job role & industry over company age.\n",
        "* Companies can improve work culture without necessarily increasing salaries."
      ],
      "metadata": {
        "id": "xvSq8iUTphqO"
      }
    },
    {
      "cell_type": "markdown",
      "source": [
        "## **5. Solution to Business Objective**"
      ],
      "metadata": {
        "id": "JcMwzZxoAimU"
      }
    },
    {
      "cell_type": "markdown",
      "source": [
        "#### What do you suggest the client to achieve Business Objective ?\n",
        "\n",
        "Now, based on our analysis, we answer the main business questions:\n",
        "\n",
        "1. How does salary vary by job position?\n",
        "\n",
        "* AI & ML Engineers, Data Science Managers earn the highest salaries.\n",
        "* Data Analysts, Entry-Level roles earn significantly less.\n",
        " * Takeaway: Specialization in AI/ML leads to higher pay.\n",
        "2. What is the impact of company size on salary?\n",
        "\n",
        "* Large and Very Large companies pay more than smaller firms.\n",
        "* Small companies have variable salaries, likely due to startup differences.\n",
        "  * Takeaway: Larger firms offer stable, higher salaries.\n",
        "3. How do salaries differ by location?\n",
        "\n",
        "* San Francisco, New York, Seattle offer the highest salaries.\n",
        "* Tech hubs generally pay more due to high demand & cost of living.\n",
        "   * Takeaway: Location has a major impact on salary expectations.\n",
        "4. Can we build a model to predict salaries?\n",
        "\n",
        "* Yes! We can train a regression model using job attributes.\n",
        "* Features like Job Title, Location, Company Size, Industry impact salary.\n",
        " * Takeaway: Salary prediction is feasible using machine learning."
      ],
      "metadata": {
        "id": "8G2x9gOozGDZ"
      }
    },
    {
      "cell_type": "markdown",
      "source": [
        "Answer Here."
      ],
      "metadata": {
        "id": "pASKb0qOza21"
      }
    },
    {
      "cell_type": "markdown",
      "source": [
        "# **Conclusion**"
      ],
      "metadata": {
        "id": "gCX9965dhzqZ"
      }
    },
    {
      "cell_type": "markdown",
      "source": [
        "The Glassdoor Salary Analysis provides key insights into salary trends in the tech industry.\n",
        "\n",
        "* Specialized roles (AI, ML) earn the highest salaries.\n",
        "* Large companies pay more than small ones.\n",
        "* Tech hubs (San Francisco, NYC) offer the best salaries.\n",
        "* Industry matters—Tech, AI, and Finance sectors pay well."
      ],
      "metadata": {
        "id": "Fjb1IsQkh3yE"
      }
    },
    {
      "cell_type": "markdown",
      "source": [
        "### ***Hurrah! You have successfully completed your EDA Capstone Project !!!***"
      ],
      "metadata": {
        "id": "gIfDvo9L0UH2"
      }
    },
    {
      "cell_type": "code",
      "source": [],
      "metadata": {
        "id": "dYX880etpL0x"
      },
      "execution_count": null,
      "outputs": []
    },
    {
      "cell_type": "code",
      "source": [],
      "metadata": {
        "id": "-6Vl263upPVI"
      },
      "execution_count": null,
      "outputs": []
    }
  ]
}